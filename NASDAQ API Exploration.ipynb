{
 "cells": [
  {
   "cell_type": "code",
   "execution_count": null,
   "id": "c9eb4622",
   "metadata": {},
   "outputs": [],
   "source": [
    "import nasdaqdatalink"
   ]
  },
  {
   "cell_type": "code",
   "execution_count": null,
   "id": "bb9802ef",
   "metadata": {},
   "outputs": [],
   "source": [
    "nasdaqdatalink.ApiConfig.api_key = \"qA7ZJNRJgdefX28HHMYh\""
   ]
  },
  {
   "cell_type": "markdown",
   "id": "ae5038d9",
   "metadata": {},
   "source": [
    "# Exploration"
   ]
  },
  {
   "cell_type": "code",
   "execution_count": null,
   "id": "0b0815e2",
   "metadata": {},
   "outputs": [],
   "source": [
    "df = nasdaqdatalink.get(\"USTREASURY/BILLRATES\")"
   ]
  },
  {
   "cell_type": "code",
   "execution_count": null,
   "id": "9cac0cda",
   "metadata": {},
   "outputs": [],
   "source": [
    "df"
   ]
  },
  {
   "cell_type": "code",
   "execution_count": null,
   "id": "821b0814",
   "metadata": {},
   "outputs": [],
   "source": [
    "df.to_csv(\"./Data/USTREASURY-BILLRATES.csv\")"
   ]
  },
  {
   "cell_type": "markdown",
   "id": "53cdb8df",
   "metadata": {},
   "source": [
    "# SP500 Ratios\n",
    "\n",
    "https://data.nasdaq.com/data/MULTPL-sp-500-ratios"
   ]
  },
  {
   "cell_type": "code",
   "execution_count": null,
   "id": "0f389ef1",
   "metadata": {
    "scrolled": true
   },
   "outputs": [],
   "source": [
    "# list of datasets in the MULTPL database\n",
    "multpl_lst = [\"SP500_DIV_YIELD_MONTH\",\n",
    "              \"SHILLER_PE_RATIO_MONTH\",\n",
    "              \"SHILLER_PE_RATIO_YEAR\",\n",
    "              \"SP500_PE_RATIO_MONTH\",    # checked 2023-08-19: 1871-01-31 to 2023-08-01\n",
    "              \"SP500_PE_RATIO_YEAR\",\n",
    "              \"SP500_PSR_QUARTER\",    # checked 2023-08-19: 2000-12-31 to 2023-08-01\n",
    "              \"SP500_PSR_YEAR\",\n",
    "              \"SP500_DIV_YIELD_YEAR\",\n",
    "              \"SP500_EARNINGS_YIELD_MONTH\",    # checked 2023-08-19: 1871-01-01 to 2023-08-01\n",
    "              \"SP500_EARNINGS_YIELD_YEAR\",\n",
    "              \"SP500_PBV_RATIO_QUARTER\",    # checked 2023-08-19: 1999-12-31 to 2023-08-01\n",
    "              \"SP500_PBV_RATIO_YEAR\",\n",
    "              \"SP500_DIV_MONTH\",    # checked 2023-08-19: 1871-01-31 to 2023-06-30\n",
    "              \"SP500_DIV_YEAR\",\n",
    "              \"SP500_DIV_GROWTH_QUARTER\",\n",
    "              \"SP500_DIV_GROWTH_YEAR\",\n",
    "              \"SP500_SALES_QUARTER\",\n",
    "              \"SP500_SALES_YEAR\",\n",
    "              \"SP500_REAL_SALES_GROWTH_QUARTER\",\n",
    "              \"SP500_SALES_GROWTH_QUARTER\",\n",
    "              \"SP500_REAL_SALES_GROWTH_YEAR\",\n",
    "              \"SP500_REAL_EARNINGS_GROWTH_YEAR\",\n",
    "              \"SP500_REAL_SALES_QUARTER\",\n",
    "              \"SP500_REAL_SALES_YEAR\",\n",
    "              \"SP500_REAL_EARNINGS_GROWTH_QUARTER\",\n",
    "              \"SP500_EARNINGS_GROWTH_QUARTER\",\n",
    "              \"SP500_EARNINGS_GROWTH_YEAR\",\n",
    "              \"SP500_EARNINGS_MONTH\",   # checked 2023-08-19: 1871-01-31 to 2023-03-01\n",
    "              \"SP500_EARNINGS_YEAR\",    # checked 2023-08-19: 1871-01-31 to 2023-03-01\n",
    "              \"SP500_BVPS_QUARTER\",\n",
    "              \"SP500_BVPS_YEAR\",\n",
    "              \"SP500_REAL_PRICE_MONTH\",    # checked 2023-08-19: 1871-01-01 to 2023-08-01\n",
    "              \"SP500_REAL_PRICE_YEAR\",\n",
    "              \"SP500_INFLADJ_MONTH\",\n",
    "              \"SP500_INFLADJ_YEAR\"\n",
    "             ]"
   ]
  },
  {
   "cell_type": "markdown",
   "id": "8495aef6",
   "metadata": {},
   "source": [
    "# Consumer Sentiment\n",
    "\n",
    "#### (University of Michigan Consumer Survey)\n",
    "\n",
    "https://data.nasdaq.com/data/UMICH-consumer-sentiment"
   ]
  },
  {
   "cell_type": "code",
   "execution_count": null,
   "id": "6e6bb5ec",
   "metadata": {},
   "outputs": [],
   "source": [
    "# dictionary mapping datasets to their descriptions in the UMICH database\n",
    "umich_dct = {\"SOC35\": \"Buying Conditions for Large Household Goods\",\n",
    "             \"SOC22\": \"Current Market Value of Primary Residence\",\n",
    "             \"SOC16\": \"Probability of Real Income Gains During the Next 5 Years\",\n",
    "             \"SOC1\": \"Index of Consumer Sentiment\",    # checked 2023-08-19: 1952-11-30 to 2023-06-30\n",
    "             \"SOC47\": \"Expected Change in Home Values During the Next 5 Years\",\n",
    "             \"SOC46\": \"Expected Change in Home Values During the Next Year\",\n",
    "             \"SOC45\": \"Change in Home Values During the Past Year\",\n",
    "             \"SOC44\": \"Reasons for Opinions About House Selling Conditions\",\n",
    "             \"SOC43\": \"Selling Conditions for Houses\",\n",
    "             \"SOC42\": \"Reasons for Opinions About House Buying Conditions\",\n",
    "             \"SOC41\": \"Buying Conditions for Houses\",\n",
    "             \"SOC40\": \"Expected Change in Gasoline Prices During the Next 5\",\n",
    "             \"SOC39\": \"Expected Change in Gasoline Prices During the Next Year\",\n",
    "             \"SOC38\": \"Reasons for Opinions for Buying Conditions for Vehicles\",\n",
    "             \"SOC37\": \"Buying Conditions for Vehicles\",\n",
    "             \"SOC36\": \"Reasons for Opinions About Large Household Goods\",\n",
    "             \"SOC34\": \"Opinions About the Government's Economic Policy\",\n",
    "             \"SOC33\": \"Expected Change in Prices During the Next 5 Years\",\n",
    "             \"SOC32\": \"Expected Change in Prices During the Next Year\",\n",
    "             \"SOC31\": \"Expected Change in Interest Rates During the Next Year\",\n",
    "             \"SOC30\": \"Expected Change in Unemployment During the Next Year\",\n",
    "             \"SOC29\": \"Business Conditions Expected During the Next 5 Years\",\n",
    "             \"SOC28\": \"Business Conditions Expected During the Next Year\",\n",
    "             \"SOC27\": \"Trend in Past and Expected Changes in Business Conditions\",\n",
    "             \"SOC26\": \"Expected Change in Business Conditions in a Year\",\n",
    "             \"SOC25\": \"Current Business Conditions Compared with a Year Ago\",\n",
    "             \"SOC24\": \"News Items Heard of Recent Changes in Business Conditions\",\n",
    "             \"SOC23\": \"News Heard of Recent Changes in Business Conditions\",\n",
    "             \"SOC21\": \"Current Market Value of Stock Market Investments\",    # checked 2023-08-19: 1990-01-31 to 2023-06-30\n",
    "             \"SOC20\": \"Probability of Increase in Stock Market in Next Year\", # checked 2023-08-19: 2002-06-30 to 2023-06-30\n",
    "             \"SOC19\": \"Change in Likelihood of Comfortable Retirement\",\n",
    "             \"SOC18\": \"Probability of Adequate Retirement Income\",\n",
    "             \"SOC17\": \"Probability of Losing a Job During the Next 5 Years\",\n",
    "             \"SOC15\": \"Probability of Personal Income Increase in Year Ahead\",\n",
    "             \"SOC14\": \"Expected Change in Real Household Income During Next Year\",\n",
    "             \"SOC13\": \"Expected Household Income Change During the Next Year\",\n",
    "             \"SOC12\": \"Five Year Trend in Household Financial Situation\",\n",
    "             \"SOC11\": \"Expected Change in Financial Situation in 5 Years\",\n",
    "             \"SOC10\": \"Current Financial Situation Compared with 5 Years Ago\",\n",
    "             \"SOC9\": \"Annual Trend in Household Financial Situation\",\n",
    "             \"SOC8\": \"Expected Change in Financial Situation in a Year\",\n",
    "             \"SOC7\": \"Reasons for Opinions About Household Financial Situation\",\n",
    "             \"SOC6\": \"Current Financial Situation Compared with a Year Ago\",\n",
    "             \"SOC5\": \"Components of the Index of Consumer Sentiment\",\n",
    "             \"SOC4\": \"Index of Consumer Sentiment Within Regions\",\n",
    "             \"SOC3\": \"Index of Consumer Sentiment Within Age Subgroups\",\n",
    "             \"SOC2\": \"Index of Consumer Sentiment Within Income Terciles\",\n",
    "            }"
   ]
  },
  {
   "cell_type": "markdown",
   "id": "efb34313",
   "metadata": {},
   "source": [
    "# Corporate Bond Yields\n",
    "\n",
    "https://data.nasdaq.com/data/ML-corporate-bond-yield-rates"
   ]
  },
  {
   "cell_type": "code",
   "execution_count": null,
   "id": "6d24c797",
   "metadata": {},
   "outputs": [],
   "source": [
    "# dictionary mapping datasets to their descriptions in the ML database\n",
    "ml_dct = {\"EMHYY\": \"Emerging Markets High Yield Corporate Bond Index Yield\",\n",
    "          \"AAAEY\": \"US AAA rated Bond Index (yield)\",\n",
    "          \"AATRI\": \"US AA Rated Total Return Index\",\n",
    "          \"BEY\": \"US B rated Corporate Bond Index (yield)\",\n",
    "          \"AEY\": \"US Corporate Bond A rated Index (yield)\",\n",
    "          \"BBBEY\": \"US BBB Bond Index (yield)\",\n",
    "         }"
   ]
  },
  {
   "cell_type": "markdown",
   "id": "0ecad214",
   "metadata": {},
   "source": [
    "# US Treasury\n",
    "\n",
    "https://data.nasdaq.com/data/USTREASURY-us-treasury"
   ]
  },
  {
   "cell_type": "code",
   "execution_count": null,
   "id": "17e0424b",
   "metadata": {},
   "outputs": [],
   "source": [
    "# dictionary mapping datasets to their descriptions in the USTREASURY database\n",
    "treasury_dct = {\"REALLONGTERM\": \"Treasury Real Long-Term Rates\",\n",
    "                \"REALYIELD\": \"Treasury Real Yield Curve Rates\",\n",
    "                \"BILLRATES\": \"Treasury Bill Rates\",\n",
    "                \"YIELD\": \"Treasury Yield Curve Rates\"\n",
    "               }"
   ]
  }
 ],
 "metadata": {
  "kernelspec": {
   "display_name": "Python 3 (ipykernel)",
   "language": "python",
   "name": "python3"
  },
  "language_info": {
   "codemirror_mode": {
    "name": "ipython",
    "version": 3
   },
   "file_extension": ".py",
   "mimetype": "text/x-python",
   "name": "python",
   "nbconvert_exporter": "python",
   "pygments_lexer": "ipython3",
   "version": "3.10.9"
  }
 },
 "nbformat": 4,
 "nbformat_minor": 5
}
