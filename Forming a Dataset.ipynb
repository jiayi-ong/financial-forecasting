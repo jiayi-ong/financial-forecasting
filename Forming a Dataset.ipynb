{
 "cells": [
  {
   "cell_type": "code",
   "execution_count": null,
   "id": "44be7217",
   "metadata": {},
   "outputs": [],
   "source": [
    "import os\n",
    "import pandas as pd\n",
    "import re"
   ]
  },
  {
   "cell_type": "markdown",
   "id": "df86cf05",
   "metadata": {},
   "source": [
    "# Load all downloaded data"
   ]
  },
  {
   "cell_type": "code",
   "execution_count": null,
   "id": "c7f8494c",
   "metadata": {},
   "outputs": [],
   "source": [
    "data_dct = {}\n",
    "for file in os.listdir(\"./Data\"):\n",
    "    dataset_name = re.match(\"^.*-(.*).csv$\", file).group(1)\n",
    "    df = pd.read_csv(f\"./Data/{file}\")\n",
    "    if \"DATE\" in df.columns:\n",
    "        df = df.rename({\"DATE\": \"Date\"}, axis=1)\n",
    "    df[\"Date\"] = pd.to_datetime(df[\"Date\"])\n",
    "    data_dct[dataset_name] = df"
   ]
  },
  {
   "cell_type": "code",
   "execution_count": null,
   "id": "9b94bede",
   "metadata": {},
   "outputs": [],
   "source": [
    "data_dct.keys()"
   ]
  },
  {
   "cell_type": "markdown",
   "id": "28f8d959",
   "metadata": {},
   "source": [
    "# Preprocessing "
   ]
  },
  {
   "cell_type": "markdown",
   "id": "7d3eb0b1",
   "metadata": {},
   "source": [
    "## Aggregate daily to monthly (first day of month)"
   ]
  },
  {
   "cell_type": "code",
   "execution_count": null,
   "id": "688f21f1",
   "metadata": {
    "scrolled": true
   },
   "outputs": [],
   "source": [
    "yield_monthly_df = (data_dct[\"YIELD\"]\n",
    "                    .assign(Year = lambda x: x[\"Date\"].dt.year, Month = lambda x: x[\"Date\"].dt.month)\n",
    "                    .astype({\"Month\": str})\n",
    "                    .groupby([\"Year\", \"Month\"])\n",
    "                    .mean(numeric_only=True)\n",
    "                    .reset_index()\n",
    "                   )\n",
    "yield_monthly_df[\"Date\"] = df.apply(lambda x: pd.to_datetime(f\"{x.Year}-{(x.Month.zfill(2))}-01\", format=\"%Y-%m-%d\"), axis=1)"
   ]
  },
  {
   "cell_type": "code",
   "execution_count": null,
   "id": "2850fb9e",
   "metadata": {
    "scrolled": true
   },
   "outputs": [],
   "source": [
    "yield_monthly_df.groupby([\"Year\"]).agg(lambda x: sum(pd.isna(x)))"
   ]
  },
  {
   "cell_type": "code",
   "execution_count": null,
   "id": "26204224",
   "metadata": {},
   "outputs": [],
   "source": [
    "# data_dct[\"YIELD\"].query(\"Date >= '2017-01-01' & Date <= '2017-12-31' & `2 MO`.isnull()\")"
   ]
  },
  {
   "cell_type": "markdown",
   "id": "b98a41be",
   "metadata": {},
   "source": [
    "# Merge to form dataset"
   ]
  },
  {
   "cell_type": "code",
   "execution_count": null,
   "id": "468e6ead",
   "metadata": {},
   "outputs": [],
   "source": [
    "merged_df = (\n",
    "        data_dct[\"SP500_REAL_PRICE_MONTH\"].rename({\"Value\": \"PRICE\"}, axis=1)\n",
    "          .merge(yield_monthly_df, on=\"Date\", how=\"outer\")\n",
    "          .merge(data_dct[\"EARNINGS_YIELD_MONTH\"].rename({\"Value\": \"EARNY\"}, axis=1),\n",
    "                 on=\"Date\", how=\"outer\")\n",
    "          .merge(data_dct[\"SP500_DIV_MONTH\"].rename({\"Value\": \"DIV\"}, axis=1),\n",
    "                 on=\"Date\", how=\"outer\")\n",
    "          .merge(data_dct[\"SP500_PBV_RATIO_QUARTER\"].rename({\"Value\": \"PBV\"}, axis=1),\n",
    "                 on=\"Date\", how=\"outer\")\n",
    "          .merge(data_dct[\"SP500_PE_RATIO_MONTH\"].rename({\"Value\": \"PE\"}, axis=1),\n",
    "                 on=\"Date\", how=\"outer\")\n",
    "          .merge(data_dct[\"SP500_PSR_QUARTER\"].rename({\"Value\": \"PSR\"}, axis=1),\n",
    "                 on=\"Date\", how=\"outer\")\n",
    "          .merge(data_dct[\"SOC1\"].rename({\"Index\": \"SOC1\"}, axis=1),\n",
    "                 on=\"Date\", how=\"outer\")\n",
    "          .sort_values(\"Date\")\n",
    "          .reset_index(drop=True)\n",
    "          .assign(Year = lambda x: x[\"Date\"].dt.year, \n",
    "                  Month = lambda x: x[\"Date\"].dt.month)\n",
    "         )"
   ]
  },
  {
   "cell_type": "code",
   "execution_count": null,
   "id": "98a34478",
   "metadata": {},
   "outputs": [],
   "source": [
    "data_df = (merged_df\n",
    "           .groupby([\"Year\", \"Month\"])\n",
    "           .head(1)\n",
    "          )"
   ]
  },
  {
   "cell_type": "code",
   "execution_count": null,
   "id": "5e0209c1",
   "metadata": {},
   "outputs": [],
   "source": [
    "(data_df\n",
    " .query(\"Date >= '1990-01-01'\")\n",
    " .isna()\n",
    " .sum(axis=0)\n",
    ")"
   ]
  },
  {
   "cell_type": "code",
   "execution_count": null,
   "id": "08cb83dc",
   "metadata": {},
   "outputs": [],
   "source": [
    "# select a subset where there are no NaNs for preliminary modelling\n",
    "(data_df\n",
    " .query(\"Date >= '1990-01-01'\")\n",
    " [[\"Date\", \"PRICE\", \"EARNY\", \"PE\", \"3 MO\", \"6 MO\", \"1 YR\", \"2 YR\", \"3 YR\", \"5 YR\", \"7 YR\", \"10 YR\"]]\n",
    " .to_csv(\"forecasting_data.csv\", index=False)\n",
    ")"
   ]
  }
 ],
 "metadata": {
  "kernelspec": {
   "display_name": "Python 3 (ipykernel)",
   "language": "python",
   "name": "python3"
  },
  "language_info": {
   "codemirror_mode": {
    "name": "ipython",
    "version": 3
   },
   "file_extension": ".py",
   "mimetype": "text/x-python",
   "name": "python",
   "nbconvert_exporter": "python",
   "pygments_lexer": "ipython3",
   "version": "3.10.9"
  }
 },
 "nbformat": 4,
 "nbformat_minor": 5
}
