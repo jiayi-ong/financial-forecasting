{
 "cells": [
  {
   "cell_type": "markdown",
   "id": "719b651c",
   "metadata": {},
   "source": [
    "## TO-DO:\n",
    "\n",
    "- object / file to store info & schema for each series (json file?)\n",
    "- API calls functions for each data source (extraction)\n",
    "- standardize column headers (e.g. date columns as 'date', value columns as \\<series name\\>)\n",
    "- standardize date types\n",
    "- Append to landing tables\n",
    "\n",
    "## Design:\n",
    "\n",
    "1) Manually choose series IDs.\n",
    "2) Specify category/ID (FRED) or database/ID (NASDAQ)\n",
    "3) For FRED, get info via API\n",
    "4) For NASDAQ, manually input info"
   ]
  },
  {
   "cell_type": "code",
   "execution_count": 9,
   "id": "57e6c2b9",
   "metadata": {},
   "outputs": [],
   "source": [
    "import nasdaqdatalink\n",
    "import pyfredapi as pf\n",
    "\n",
    "import re\n",
    "import json\n",
    "import numpy as np\n",
    "import pandas as pd"
   ]
  },
  {
   "cell_type": "markdown",
   "id": "a0bbf9e9",
   "metadata": {},
   "source": [
    "# FRED Data: create json file"
   ]
  },
  {
   "cell_type": "code",
   "execution_count": 2,
   "id": "cbfb420d",
   "metadata": {},
   "outputs": [],
   "source": [
    "FRED_API_KEY = \"106419264587f03fcdba13deec1ebdfe\""
   ]
  },
  {
   "cell_type": "code",
   "execution_count": 3,
   "id": "52ad2068",
   "metadata": {},
   "outputs": [],
   "source": [
    "# keys: category\n",
    "# values: list of series IDs\n",
    "select_data_fred = \\\n",
    "    {\"Industry\": ['VAPGDPAER', 'VAPGDPAERAF', 'VAPGDPAF', 'VAPGDPAFH', 'VAPGDPAI',\n",
    "                  'VAPGDPAWMS', 'VAPGDPC', 'VAPGDPES', 'VAPGDPESHS', 'VAPGDPFI',\n",
    "                  'VAPGDPFIRL', 'VAPGDPGPI', 'VAPGDPHCSA', 'VAPGDPI', 'VAPGDPM',\n",
    "                  'VAPGDPMA', 'VAPGDPMCE', 'VAPGDPMD', 'VAPGDPMN', 'VAPGDPOSEG',\n",
    "                  'VAPGDPPBS', 'VAPGDPPI', 'VAPGDPPST', 'VAPGDPR', 'VAPGDPRL',\n",
    "                  'VAPGDPSPI', 'VAPGDPT', 'VAPGDPU', 'VAPGDPW'],\n",
    "     \"GDP/GNP\": ['OB000334Q', 'STLENI', 'Y694RC1Q027SBEA', 'WEI', 'BBKMLEIX']\n",
    "    }"
   ]
  },
  {
   "cell_type": "code",
   "execution_count": 5,
   "id": "2714e2d0",
   "metadata": {},
   "outputs": [],
   "source": [
    "# maps day of week to abbreviation\n",
    "dct_map_to_abbrev = {\"Monday\": \"MON\", \"Tuesday\": \"TUE\", \"Wednesday\": \"WED\",\n",
    "                     \"Thursday\": \"THU\", \"Friday\": \"FRI\", \"Saturday\": \"SAT\", \"Sunday\": \"SUN\"}\n",
    "\n",
    "# dictionary mapping series IDs to info\n",
    "dct_data_info = {}\n",
    "\n",
    "# fill dictionary\n",
    "for category in select_data_fred.keys():\n",
    "    for series_id in select_data_fred[category]:\n",
    "        \n",
    "        # get info using API\n",
    "        dct = {k:v for k,v in pf.get_series_info(series_id, api_key=FRED_API_KEY)}\n",
    "        \n",
    "        # standardize frequency tags\n",
    "        if dct[\"frequency_short\"] == \"M\":\n",
    "            dct[\"frequency_short\"] = \"MS\"\n",
    "        elif dct[\"frequency_short\"] == \"Q\":\n",
    "            dct[\"frequency_short\"] = \"QS\"\n",
    "        elif dct[\"frequency_short\"] == \"W\":\n",
    "            ending_day = re.match(\"^(Weekly, Ending )(.*)$\", dct[\"frequency\"]).group(2)\n",
    "            dct[\"frequency_short\"] = \"W-\" + dct_map_to_abbrev[ending_day]\n",
    "            \n",
    "        dct[\"category\"] = category\n",
    "        dct_data_info[series_id] = dct"
   ]
  },
  {
   "cell_type": "markdown",
   "id": "164f21e2",
   "metadata": {},
   "source": [
    "# NASDAQ Data: create json file"
   ]
  },
  {
   "cell_type": "code",
   "execution_count": null,
   "id": "5dea96a0",
   "metadata": {},
   "outputs": [],
   "source": [
    "# nasdaqdatalink.ApiConfig.api_key = \"qA7ZJNRJgdefX28HHMYh\""
   ]
  },
  {
   "cell_type": "code",
   "execution_count": null,
   "id": "d2253383",
   "metadata": {},
   "outputs": [],
   "source": [
    "# keys: database\n",
    "# values: list of dataset IDs\n",
    "select_data_ndq = \\\n",
    "    {\"ML\": ['EMHYY', 'AAAEY', 'AATRI', 'BEY', 'AEY', 'BBBEY']\n",
    "    }"
   ]
  },
  {
   "cell_type": "code",
   "execution_count": 6,
   "id": "5a261a63",
   "metadata": {},
   "outputs": [],
   "source": [
    "dct_data_info_ndq = \\\n",
    "    {\"EMHYY\": {\"category\": \"ML\",\n",
    "               \"title\": \"Emerging Markets High Yield Corporate Bond Index Yield\",\n",
    "               \"frequency_short\": \"D\"},\n",
    "     \"AAAEY\": {\"category\": \"ML\",\n",
    "               \"title\": \"US AAA rated Bond Index (yield)\",\n",
    "               \"frequency_short\": \"D\"},\n",
    "     \"AATRI\": {\"category\": \"ML\",\n",
    "               \"title\": \"US AA Rated Total Return Index\",\n",
    "               \"frequency_short\": \"D\"},\n",
    "     \"BEY\": {\"category\": \"ML\",\n",
    "             \"title\": \"US B rated Corporate Bond Index (yield)\",\n",
    "             \"frequency_short\": \"D\"},\n",
    "     \"AEY\": {\"category\": \"ML\",\n",
    "             \"title\": \"US Corporate Bond A rated Index (yield)\",\n",
    "             \"frequency_short\": \"D\"},\n",
    "     \"BBBEY\": {\"category\": \"ML\",\n",
    "               \"title\": \"US BBB Bond Index (yield)\",\n",
    "               \"frequency_short\": \"D\"},\n",
    "     \"REALLONGTERM\": {\"category\": \"USTREASURY\",\n",
    "                      \"title\": \"Treasury Real Long-Term Rates\",\n",
    "                      \"frequency_short\": \"D\"},\n",
    "     \"REALYIELD\": {\"category\": \"USTREASURY\",\n",
    "                   \"title\": \"Treasury Real Yield Curve Rates\",\n",
    "                   \"frequency_short\": \"D\"},\n",
    "     \"BILLRATES\": {\"category\": \"USTREASURY\",\n",
    "                   \"title\": \"Treasury Bill Rates\",\n",
    "                   \"frequency_short\": \"D\"},\n",
    "     \"YIELD\": {\"category\": \"USTREASURY\",\n",
    "               \"title\": \"Treasury Yield Curve Rates\",\n",
    "               \"frequency_short\": \"D\"},\n",
    "}"
   ]
  },
  {
   "cell_type": "markdown",
   "id": "0e8d8ab0",
   "metadata": {},
   "source": [
    "# Export JSON"
   ]
  },
  {
   "cell_type": "code",
   "execution_count": 7,
   "id": "6c8de6a6",
   "metadata": {},
   "outputs": [],
   "source": [
    "dct_data_info.update(dct_data_info_ndq)"
   ]
  },
  {
   "cell_type": "code",
   "execution_count": 8,
   "id": "648e1386",
   "metadata": {},
   "outputs": [],
   "source": [
    "# Serializing json\n",
    "json_data_info = json.dumps(dct_data_info, indent=4)\n",
    " \n",
    "# Writing to sample.json\n",
    "with open(\"../Database/data_info.json\", \"w\") as outfile:\n",
    "    outfile.write(json_data_info)"
   ]
  },
  {
   "cell_type": "markdown",
   "id": "68a0467c",
   "metadata": {},
   "source": [
    "# Extract FRED Data:"
   ]
  },
  {
   "cell_type": "code",
   "execution_count": 12,
   "id": "6638881d",
   "metadata": {},
   "outputs": [],
   "source": [
    "current_year = pd.Timestamp.today().year"
   ]
  },
  {
   "cell_type": "code",
   "execution_count": 13,
   "id": "8637a1b1",
   "metadata": {},
   "outputs": [],
   "source": [
    "params = {\"observation_start\": \"2000-01-01\"}\n",
    "\n",
    "for category in select_data_fred.keys():\n",
    "    for series_id in select_data_fred[category]:\n",
    "        (pf.get_series_all_releases(series_id, **params, api_key=FRED_API_KEY)\n",
    "         .replace(to_replace=\"9999-12-31\", value=f\"{current_year}-12-31\")\n",
    "         .rename({\"value\": series_id}, axis=1)\n",
    "         .to_csv(f\"../Database/{series_id}.csv\", index=False)\n",
    "        )"
   ]
  }
 ],
 "metadata": {
  "kernelspec": {
   "display_name": "Python 3 (ipykernel)",
   "language": "python",
   "name": "python3"
  },
  "language_info": {
   "codemirror_mode": {
    "name": "ipython",
    "version": 3
   },
   "file_extension": ".py",
   "mimetype": "text/x-python",
   "name": "python",
   "nbconvert_exporter": "python",
   "pygments_lexer": "ipython3",
   "version": "3.10.9"
  }
 },
 "nbformat": 4,
 "nbformat_minor": 5
}
