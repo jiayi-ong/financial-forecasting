{
 "cells": [
  {
   "cell_type": "code",
   "execution_count": 1,
   "id": "c9eb4622",
   "metadata": {},
   "outputs": [],
   "source": [
    "import nasdaqdatalink"
   ]
  },
  {
   "cell_type": "code",
   "execution_count": 2,
   "id": "bb9802ef",
   "metadata": {},
   "outputs": [],
   "source": [
    "nasdaqdatalink.ApiConfig.api_key = \"qA7ZJNRJgdefX28HHMYh\""
   ]
  },
  {
   "cell_type": "code",
   "execution_count": null,
   "id": "58d295d6",
   "metadata": {},
   "outputs": [],
   "source": [
    "# https://data.nasdaq.com/data/FED-us-federal-reserve-data-releases\n",
    "# df = nasdaqdatalink.get(\"FED/SUBLPDMHS_XWB_N_Q\")"
   ]
  },
  {
   "cell_type": "markdown",
   "id": "e378e252",
   "metadata": {},
   "source": [
    "# SP500 Ratios\n",
    "\n",
    "https://data.nasdaq.com/data/MULTPL-sp-500-ratios"
   ]
  },
  {
   "cell_type": "code",
   "execution_count": 4,
   "id": "0f389ef1",
   "metadata": {
    "scrolled": true
   },
   "outputs": [],
   "source": [
    "# list of datasets in the MULTPL database\n",
    "multpl_lst = [\"SP500_DIV_YIELD_MONTH\",\n",
    "              \"SHILLER_PE_RATIO_MONTH\",\n",
    "              \"SHILLER_PE_RATIO_YEAR\",\n",
    "              \"SP500_PE_RATIO_MONTH\",    # checked 2023-08-19: 1871-01-31 to 2023-08-01\n",
    "              \"SP500_PE_RATIO_YEAR\",\n",
    "              \"SP500_PSR_QUARTER\",    # checked 2023-08-19: 2000-12-31 to 2023-08-01\n",
    "              \"SP500_PSR_YEAR\",\n",
    "              \"SP500_DIV_YIELD_YEAR\",\n",
    "              \"SP500_EARNINGS_YIELD_MONTH\",    # checked 2023-08-19: 1871-01-01 to 2023-08-01\n",
    "              \"SP500_EARNINGS_YIELD_YEAR\",\n",
    "              \"SP500_PBV_RATIO_QUARTER\",    # checked 2023-08-19: 1999-12-31 to 2023-08-01\n",
    "              \"SP500_PBV_RATIO_YEAR\",\n",
    "              \"SP500_DIV_MONTH\",    # checked 2023-08-19: 1871-01-31 to 2023-06-30\n",
    "              \"SP500_DIV_YEAR\",\n",
    "              \"SP500_DIV_GROWTH_QUARTER\",\n",
    "              \"SP500_DIV_GROWTH_YEAR\",\n",
    "              \"SP500_SALES_QUARTER\",\n",
    "              \"SP500_SALES_YEAR\",\n",
    "              \"SP500_REAL_SALES_GROWTH_QUARTER\",\n",
    "              \"SP500_SALES_GROWTH_QUARTER\",\n",
    "              \"SP500_REAL_SALES_GROWTH_YEAR\",\n",
    "              \"SP500_REAL_EARNINGS_GROWTH_YEAR\",\n",
    "              \"SP500_REAL_SALES_QUARTER\",\n",
    "              \"SP500_REAL_SALES_YEAR\",\n",
    "              \"SP500_REAL_EARNINGS_GROWTH_QUARTER\",\n",
    "              \"SP500_EARNINGS_GROWTH_QUARTER\",\n",
    "              \"SP500_EARNINGS_GROWTH_YEAR\",\n",
    "              \"SP500_EARNINGS_MONTH\",   # checked 2023-08-19: 1871-01-31 to 2023-03-01\n",
    "              \"SP500_EARNINGS_YEAR\",    # checked 2023-08-19: 1871-01-31 to 2023-03-01\n",
    "              \"SP500_BVPS_QUARTER\",\n",
    "              \"SP500_BVPS_YEAR\",\n",
    "              \"SP500_REAL_PRICE_MONTH\",    # checked 2023-08-19: 1871-01-01 to 2023-08-01\n",
    "              \"SP500_REAL_PRICE_YEAR\",\n",
    "              \"SP500_INFLADJ_MONTH\",\n",
    "              \"SP500_INFLADJ_YEAR\"\n",
    "             ]"
   ]
  },
  {
   "cell_type": "markdown",
   "id": "9cea8998",
   "metadata": {},
   "source": [
    "# Consumer Sentiment\n",
    "\n",
    "#### (University of Michigan Consumer Survey)\n",
    "\n",
    "https://data.nasdaq.com/data/UMICH-consumer-sentiment"
   ]
  },
  {
   "cell_type": "code",
   "execution_count": null,
   "id": "6cd58edc",
   "metadata": {},
   "outputs": [],
   "source": [
    "# dictionary mapping datasets to their descriptions in the UMICH database\n",
    "umich_dct = {\"SOC35\": \"Buying Conditions for Large Household Goods\",\n",
    "             \"SOC22\": \"Current Market Value of Primary Residence\",\n",
    "             \"SOC16\": \"Probability of Real Income Gains During the Next 5 Years\",\n",
    "             \"SOC1\": \"Index of Consumer Sentiment\",    # checked 2023-08-19: 1952-11-30 to 2023-06-30\n",
    "             \"SOC47\": \"Expected Change in Home Values During the Next 5 Years\",\n",
    "             \"SOC46\": \"Expected Change in Home Values During the Next Year\",\n",
    "             \"SOC45\": \"Change in Home Values During the Past Year\",\n",
    "             \"SOC44\": \"Reasons for Opinions About House Selling Conditions\",\n",
    "             \"SOC43\": \"Selling Conditions for Houses\",\n",
    "             \"SOC42\": \"Reasons for Opinions About House Buying Conditions\",\n",
    "             \"SOC41\": \"Buying Conditions for Houses\",\n",
    "             \"SOC40\": \"Expected Change in Gasoline Prices During the Next 5\",\n",
    "             \"SOC39\": \"Expected Change in Gasoline Prices During the Next Year\",\n",
    "             \"SOC38\": \"Reasons for Opinions for Buying Conditions for Vehicles\",\n",
    "             \"SOC37\": \"Buying Conditions for Vehicles\",\n",
    "             \"SOC36\": \"Reasons for Opinions About Large Household Goods\",\n",
    "             \"SOC34\": \"Opinions About the Government's Economic Policy\",\n",
    "             \"SOC33\": \"Expected Change in Prices During the Next 5 Years\",\n",
    "             \"SOC32\": \"Expected Change in Prices During the Next Year\",\n",
    "             \"SOC31\": \"Expected Change in Interest Rates During the Next Year\",\n",
    "             \"SOC30\": \"Expected Change in Unemployment During the Next Year\",\n",
    "             \"SOC29\": \"Business Conditions Expected During the Next 5 Years\",\n",
    "             \"SOC28\": \"Business Conditions Expected During the Next Year\",\n",
    "             \"SOC27\": \"Trend in Past and Expected Changes in Business Conditions\",\n",
    "             \"SOC26\": \"Expected Change in Business Conditions in a Year\",\n",
    "             \"SOC25\": \"Current Business Conditions Compared with a Year Ago\",\n",
    "             \"SOC24\": \"News Items Heard of Recent Changes in Business Conditions\",\n",
    "             \"SOC23\": \"News Heard of Recent Changes in Business Conditions\",\n",
    "             \"SOC21\": \"Current Market Value of Stock Market Investments\",    # checked 2023-08-19: 1990-01-31 to 2023-06-30\n",
    "             \"SOC20\": \"Probability of Increase in Stock Market in Next Year\", # checked 2023-08-19: 2002-06-30 to 2023-06-30\n",
    "             \"SOC19\": \"Change in Likelihood of Comfortable Retirement\",\n",
    "             \"SOC18\": \"Probability of Adequate Retirement Income\",\n",
    "             \"SOC17\": \"Probability of Losing a Job During the Next 5 Years\",\n",
    "             \"SOC15\": \"Probability of Personal Income Increase in Year Ahead\",\n",
    "             \"SOC14\": \"Expected Change in Real Household Income During Next Year\",\n",
    "             \"SOC13\": \"Expected Household Income Change During the Next Year\",\n",
    "             \"SOC12\": \"Five Year Trend in Household Financial Situation\",\n",
    "             \"SOC11\": \"Expected Change in Financial Situation in 5 Years\",\n",
    "             \"SOC10\": \"Current Financial Situation Compared with 5 Years Ago\",\n",
    "             \"SOC9\": \"Annual Trend in Household Financial Situation\",\n",
    "             \"SOC8\": \"Expected Change in Financial Situation in a Year\",\n",
    "             \"SOC7\": \"Reasons for Opinions About Household Financial Situation\",\n",
    "             \"SOC6\": \"Current Financial Situation Compared with a Year Ago\",\n",
    "             \"SOC5\": \"Components of the Index of Consumer Sentiment\",\n",
    "             \"SOC4\": \"Index of Consumer Sentiment Within Regions\",\n",
    "             \"SOC3\": \"Index of Consumer Sentiment Within Age Subgroups\",\n",
    "             \"SOC2\": \"Index of Consumer Sentiment Within Income Terciles\",\n",
    "            }"
   ]
  },
  {
   "cell_type": "markdown",
   "id": "e173aa97",
   "metadata": {},
   "source": [
    "# Merge Data"
   ]
  },
  {
   "cell_type": "code",
   "execution_count": 50,
   "id": "f35e19b6",
   "metadata": {},
   "outputs": [],
   "source": [
    "import os\n",
    "import pandas as pd\n",
    "import re"
   ]
  },
  {
   "cell_type": "code",
   "execution_count": 60,
   "id": "e9b4e3a5",
   "metadata": {},
   "outputs": [],
   "source": [
    "data_dct = {}\n",
    "for file in os.listdir(\"./Data\"):\n",
    "    dataset_name = re.match(\"^.*-(.*).csv$\", file).group(1)\n",
    "    df = pd.read_csv(f\"./Data/{file}\")\n",
    "    df[\"Date\"] = pd.to_datetime(df[\"Date\"])\n",
    "    data_dct[dataset_name] = df"
   ]
  },
  {
   "cell_type": "code",
   "execution_count": 61,
   "id": "58efeadc",
   "metadata": {},
   "outputs": [
    {
     "data": {
      "text/plain": [
       "dict_keys(['EARNINGS_YIELD_MONTH', 'SP500_DIV_MONTH', 'SP500_PBV_RATIO_QUARTER', 'SP500_PE_RATIO_MONTH', 'SP500_PSR_QUARTER', 'SP500_REAL_PRICE_MONTH', 'SOC1', 'SOC20', 'SOC21'])"
      ]
     },
     "execution_count": 61,
     "metadata": {},
     "output_type": "execute_result"
    }
   ],
   "source": [
    "data_dct.keys()"
   ]
  },
  {
   "cell_type": "code",
   "execution_count": 119,
   "id": "cc57d8f3",
   "metadata": {},
   "outputs": [],
   "source": [
    "merged_df = (data_dct[\"SP500_REAL_PRICE_MONTH\"].rename({\"Value\": \"PRICE\"}, axis=1)\n",
    "          .merge(data_dct[\"EARNINGS_YIELD_MONTH\"].rename({\"Value\": \"EARNY\"}, axis=1),\n",
    "                 on=\"Date\", how=\"outer\")\n",
    "          .merge(data_dct[\"SP500_DIV_MONTH\"].rename({\"Value\": \"DIV\"}, axis=1),\n",
    "                 on=\"Date\", how=\"outer\")\n",
    "          .merge(data_dct[\"SP500_PBV_RATIO_QUARTER\"].rename({\"Value\": \"PBV\"}, axis=1),\n",
    "                 on=\"Date\", how=\"outer\")\n",
    "          .merge(data_dct[\"SP500_PE_RATIO_MONTH\"].rename({\"Value\": \"PE\"}, axis=1),\n",
    "                 on=\"Date\", how=\"outer\")\n",
    "          .merge(data_dct[\"SP500_PSR_QUARTER\"].rename({\"Value\": \"PSR\"}, axis=1),\n",
    "                 on=\"Date\", how=\"outer\")\n",
    "          .merge(data_dct[\"SOC1\"].rename({\"Index\": \"SOC1\"}, axis=1),\n",
    "                 on=\"Date\", how=\"outer\")\n",
    "          .sort_values(\"Date\")\n",
    "          .reset_index(drop=True)\n",
    "          .assign(Year = lambda x: x[\"Date\"].dt.year, \n",
    "                  Month = lambda x: x[\"Date\"].dt.month)\n",
    "         )"
   ]
  },
  {
   "cell_type": "code",
   "execution_count": 127,
   "id": "f69db3af",
   "metadata": {},
   "outputs": [],
   "source": [
    "data_df = (merged_df\n",
    "#            .query(\"Date >= '1990-01-01'\")\n",
    "           .groupby([\"Year\", \"Month\"]).head(1)\n",
    "          )"
   ]
  },
  {
   "cell_type": "code",
   "execution_count": 128,
   "id": "bf478e97",
   "metadata": {},
   "outputs": [
    {
     "data": {
      "text/plain": [
       "Date        0\n",
       "PRICE       0\n",
       "EARNY       0\n",
       "DIV      1832\n",
       "PBV      1801\n",
       "PE          0\n",
       "PSR      1801\n",
       "SOC1     1832\n",
       "Year        0\n",
       "Month       0\n",
       "dtype: int64"
      ]
     },
     "execution_count": 128,
     "metadata": {},
     "output_type": "execute_result"
    }
   ],
   "source": [
    "data_df.isna().sum(axis=0)"
   ]
  },
  {
   "cell_type": "code",
   "execution_count": 131,
   "id": "04e595e1",
   "metadata": {},
   "outputs": [],
   "source": [
    "# select a subset where there are no NaNs for preliminary modelling\n",
    "data_df[[\"Date\", \"PRICE\", \"EARNY\", \"PE\"]].to_csv(\"regression_data.csv\", index=False)"
   ]
  }
 ],
 "metadata": {
  "kernelspec": {
   "display_name": "Python 3 (ipykernel)",
   "language": "python",
   "name": "python3"
  },
  "language_info": {
   "codemirror_mode": {
    "name": "ipython",
    "version": 3
   },
   "file_extension": ".py",
   "mimetype": "text/x-python",
   "name": "python",
   "nbconvert_exporter": "python",
   "pygments_lexer": "ipython3",
   "version": "3.10.9"
  }
 },
 "nbformat": 4,
 "nbformat_minor": 5
}
