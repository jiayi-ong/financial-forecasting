{
 "cells": [
  {
   "cell_type": "code",
   "execution_count": 37,
   "id": "6e701eec",
   "metadata": {},
   "outputs": [],
   "source": [
    "import json\n",
    "import warnings\n",
    "import pandas as pd\n",
    "pd.options.mode.chained_assignment = None\n",
    "from sec_api import QueryApi, XbrlApi"
   ]
  },
  {
   "cell_type": "code",
   "execution_count": 80,
   "id": "ac0d5a7a",
   "metadata": {},
   "outputs": [],
   "source": [
    "api_key = \"e3d46df2271d81a4b7a71153aef74fa5e7dae956314122b155767267425b36a6\""
   ]
  },
  {
   "cell_type": "markdown",
   "id": "f33cacea",
   "metadata": {},
   "source": [
    "# Query 20 most recent 10Q Info"
   ]
  },
  {
   "cell_type": "code",
   "execution_count": null,
   "id": "4aebec97",
   "metadata": {},
   "outputs": [],
   "source": [
    "# queryAPI = QueryApi(api_key=api_key)"
   ]
  },
  {
   "cell_type": "code",
   "execution_count": null,
   "id": "75b6d6a4",
   "metadata": {},
   "outputs": [],
   "source": [
    "# query = {\"query\": {\n",
    "#             \"query_string\": {\n",
    "#                 \"query\": \"ticker:TSLA AND formType:\\\"10-Q\\\"\",\n",
    "#                     }\n",
    "#                 },\n",
    "#          \"from\": \"0\",\n",
    "#          \"size\": 4*5,\n",
    "#          \"sort\": [{\"filedAt\": {\"order\": \"desc\"}}]\n",
    "#             }"
   ]
  },
  {
   "cell_type": "code",
   "execution_count": null,
   "id": "735dc9f8",
   "metadata": {},
   "outputs": [],
   "source": [
    "# response = queryAPI.get_filings(query)\n",
    "# response_parsed = pd.DataFrame.from_records(response[\"filings\"])"
   ]
  },
  {
   "cell_type": "code",
   "execution_count": 74,
   "id": "f00e495f",
   "metadata": {
    "scrolled": true
   },
   "outputs": [],
   "source": [
    "# response_parsed.to_csv(\"TSLA_10Q_INFO_2017Q1_2023Q2.csv\", index=False)\n",
    "response_parsed = pd.read_csv(\"TSLA_10Q_INFO_2017Q1_2023Q2.csv\")"
   ]
  },
  {
   "cell_type": "markdown",
   "id": "57847c0d",
   "metadata": {},
   "source": [
    "# Parse 10Q"
   ]
  },
  {
   "cell_type": "code",
   "execution_count": 81,
   "id": "cf9d6ccc",
   "metadata": {},
   "outputs": [],
   "source": [
    "# xbrlAPI = XbrlApi(api_key)"
   ]
  },
  {
   "cell_type": "code",
   "execution_count": 94,
   "id": "10395a3b",
   "metadata": {},
   "outputs": [
    {
     "name": "stdout",
     "output_type": "stream",
     "text": [
      "CPU times: total: 4.41 s\n",
      "Wall time: 10.9 s\n"
     ]
    }
   ],
   "source": [
    "# %%time\n",
    "# for date, url in response_parsed[[\"periodOfReport\", \"linkToFilingDetails\"]].values:\n",
    "#     xbrl_json = xbrlAPI.xbrl_to_json(url)\n",
    "    \n",
    "#     with open(f\"tesla_10Q_{date}.json\", \"w\") as f:\n",
    "#         json.dump(xbrl_json, f)"
   ]
  },
  {
   "cell_type": "markdown",
   "id": "f8bbf8f1",
   "metadata": {},
   "source": [
    "## Extract Data"
   ]
  },
  {
   "cell_type": "code",
   "execution_count": 95,
   "id": "b33149ed",
   "metadata": {},
   "outputs": [],
   "source": [
    "with open(\"tesla_10Q_2023-06-30.json\", \"r\") as f:\n",
    "    xbrl_json = json.load(f)"
   ]
  },
  {
   "cell_type": "code",
   "execution_count": 96,
   "id": "17570fef",
   "metadata": {},
   "outputs": [
    {
     "data": {
      "text/plain": [
       "'2023-06-30'"
      ]
     },
     "execution_count": 96,
     "metadata": {},
     "output_type": "execute_result"
    }
   ],
   "source": [
    "xbrl_json[\"CoverPage\"][\"DocumentPeriodEndDate\"]"
   ]
  },
  {
   "cell_type": "code",
   "execution_count": 97,
   "id": "a1fb0cbc",
   "metadata": {},
   "outputs": [],
   "source": [
    "BalanceSheets = xbrl_json[\"BalanceSheets\"]\n",
    "StatementsOfIncome = xbrl_json[\"StatementsOfIncome\"]\n",
    "StatementsOfCashFlows = xbrl_json[\"StatementsOfCashFlows\"]\n",
    "StatementsOfShareholdersEquity = xbrl_json[\"StatementsOfShareholdersEquity\"]"
   ]
  },
  {
   "cell_type": "markdown",
   "id": "0be5ec01",
   "metadata": {},
   "source": [
    "## Balance Sheets"
   ]
  },
  {
   "cell_type": "code",
   "execution_count": 98,
   "id": "9ac3d16e",
   "metadata": {},
   "outputs": [],
   "source": [
    "def balancesheets_to_df(BalanceSheets):\n",
    "    \"\"\"\n",
    "    \"\"\"\n",
    "    df_list = []\n",
    "\n",
    "    for name in BalanceSheets.keys():\n",
    "        try:\n",
    "            df = pd.DataFrame.from_records(BalanceSheets[name])\n",
    "            df[\"period\"] = df[\"period\"].apply(lambda x: x[\"instant\"])\n",
    "            df[\"name\"] = name\n",
    "            df = df[[\"name\", \"period\", \"value\"]]\n",
    "            df_list.append(df)\n",
    "        except Exception as ex:\n",
    "            print(name, \"---\", ex)\n",
    "    \n",
    "    return pd.concat(df_list, axis=0)"
   ]
  },
  {
   "cell_type": "code",
   "execution_count": 99,
   "id": "2d0f785e",
   "metadata": {},
   "outputs": [
    {
     "name": "stdout",
     "output_type": "stream",
     "text": [
      "CommitmentsAndContingencies --- \"['value'] not in index\"\n"
     ]
    },
    {
     "data": {
      "text/plain": [
       "{'CommitmentsAndContingencies'}"
      ]
     },
     "execution_count": 99,
     "metadata": {},
     "output_type": "execute_result"
    }
   ],
   "source": [
    "set(BalanceSheets.keys()).difference(set(balancesheets_to_df(BalanceSheets).name))"
   ]
  },
  {
   "cell_type": "markdown",
   "id": "2a3b2753",
   "metadata": {},
   "source": [
    "## Statements of Income"
   ]
  },
  {
   "cell_type": "code",
   "execution_count": 100,
   "id": "124765a6",
   "metadata": {},
   "outputs": [],
   "source": [
    "def incomestatement_to_df(StatementsOfIncome):\n",
    "    \"\"\"\n",
    "    \"\"\"\n",
    "    df_list = []\n",
    "\n",
    "    for name in StatementsOfIncome.keys():\n",
    "        try:\n",
    "            df = pd.DataFrame.from_records(StatementsOfIncome[name])\n",
    "            df[\"startDate\"] = df[\"period\"].apply(lambda x: x[\"startDate\"])\n",
    "            df[\"endDate\"] = df[\"period\"].apply(lambda x: x[\"endDate\"])\n",
    "            df[\"name\"] = name\n",
    "            df = df[[\"name\", \"startDate\", \"endDate\", \"value\"]]\n",
    "            df_list.append(df)\n",
    "        except Exception as ex:\n",
    "            print(name, \"---\", ex)\n",
    "    \n",
    "    return pd.concat(df_list, axis=0)"
   ]
  },
  {
   "cell_type": "code",
   "execution_count": 101,
   "id": "53331ff1",
   "metadata": {},
   "outputs": [
    {
     "data": {
      "text/plain": [
       "set()"
      ]
     },
     "execution_count": 101,
     "metadata": {},
     "output_type": "execute_result"
    }
   ],
   "source": [
    "set(StatementsOfIncome.keys()).difference(set(incomestatement_to_df(StatementsOfIncome).name))"
   ]
  },
  {
   "cell_type": "code",
   "execution_count": 102,
   "id": "f3e89dac",
   "metadata": {},
   "outputs": [],
   "source": [
    "df = incomestatement_to_df(StatementsOfIncome)"
   ]
  },
  {
   "cell_type": "code",
   "execution_count": 103,
   "id": "c4083cb9",
   "metadata": {},
   "outputs": [
    {
     "data": {
      "text/plain": [
       "startDate   endDate   \n",
       "2022-01-01  2022-06-30    44\n",
       "2022-04-01  2022-06-30    44\n",
       "2023-01-01  2023-06-30    44\n",
       "2023-04-01  2023-06-30    44\n",
       "dtype: int64"
      ]
     },
     "execution_count": 103,
     "metadata": {},
     "output_type": "execute_result"
    }
   ],
   "source": [
    "df[[\"startDate\", \"endDate\"]].value_counts()"
   ]
  }
 ],
 "metadata": {
  "kernelspec": {
   "display_name": "Python 3 (ipykernel)",
   "language": "python",
   "name": "python3"
  },
  "language_info": {
   "codemirror_mode": {
    "name": "ipython",
    "version": 3
   },
   "file_extension": ".py",
   "mimetype": "text/x-python",
   "name": "python",
   "nbconvert_exporter": "python",
   "pygments_lexer": "ipython3",
   "version": "3.10.9"
  }
 },
 "nbformat": 4,
 "nbformat_minor": 5
}
