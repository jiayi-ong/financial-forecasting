{
 "cells": [
  {
   "cell_type": "code",
   "execution_count": 1,
   "id": "9347838c",
   "metadata": {},
   "outputs": [],
   "source": [
    "import os\n",
    "import re\n",
    "import json\n",
    "import warnings\n",
    "import pandas as pd\n",
    "pd.options.mode.chained_assignment = None\n",
    "from sec_api import QueryApi, XbrlApi"
   ]
  },
  {
   "cell_type": "code",
   "execution_count": null,
   "id": "9fe134c4",
   "metadata": {},
   "outputs": [],
   "source": [
    "api_key = \"e3d46df2271d81a4b7a71153aef74fa5e7dae956314122b155767267425b36a6\""
   ]
  },
  {
   "cell_type": "markdown",
   "id": "e585fb7a",
   "metadata": {},
   "source": [
    "# Query 20 most recent 10Q Info"
   ]
  },
  {
   "cell_type": "code",
   "execution_count": null,
   "id": "76cb99f2",
   "metadata": {},
   "outputs": [],
   "source": [
    "# queryAPI = QueryApi(api_key=api_key)"
   ]
  },
  {
   "cell_type": "code",
   "execution_count": null,
   "id": "e1847161",
   "metadata": {},
   "outputs": [],
   "source": [
    "# query = {\"query\": {\n",
    "#             \"query_string\": {\n",
    "#                 \"query\": \"ticker:TSLA AND formType:\\\"10-Q\\\"\",\n",
    "#                     }\n",
    "#                 },\n",
    "#          \"from\": \"0\",\n",
    "#          \"size\": 4*5,\n",
    "#          \"sort\": [{\"filedAt\": {\"order\": \"desc\"}}]\n",
    "#             }"
   ]
  },
  {
   "cell_type": "code",
   "execution_count": null,
   "id": "72cbb72a",
   "metadata": {},
   "outputs": [],
   "source": [
    "### NOTE: USES UP MONTHLY API CALLS LIMIT\n",
    "# response = queryAPI.get_filings(query)\n",
    "# response_parsed = pd.DataFrame.from_records(response[\"filings\"])"
   ]
  },
  {
   "cell_type": "code",
   "execution_count": null,
   "id": "ff534c64",
   "metadata": {
    "scrolled": true
   },
   "outputs": [],
   "source": [
    "# response_parsed.to_csv(\"TSLA_10Q_INFO_2017Q1_2023Q2.csv\", index=False)\n",
    "response_parsed = pd.read_csv(\"TSLA_10Q_INFO_2017Q1_2023Q2.csv\")"
   ]
  },
  {
   "cell_type": "markdown",
   "id": "25ed8d06",
   "metadata": {},
   "source": [
    "# Parse 10Q"
   ]
  },
  {
   "cell_type": "code",
   "execution_count": null,
   "id": "d6211ee5",
   "metadata": {},
   "outputs": [],
   "source": [
    "# xbrlAPI = XbrlApi(api_key)"
   ]
  },
  {
   "cell_type": "code",
   "execution_count": null,
   "id": "18c3b846",
   "metadata": {},
   "outputs": [],
   "source": [
    "# %%time\n",
    "### NOTE: USES UP MONTHLY API CALLS LIMIT\n",
    "# for date, url in response_parsed[[\"periodOfReport\", \"linkToFilingDetails\"]].values:\n",
    "#     xbrl_json = xbrlAPI.xbrl_to_json(url)\n",
    "    \n",
    "#     with open(f\"tesla_10Q_{date}.json\", \"w\") as f:\n",
    "#         json.dump(xbrl_json, f)"
   ]
  },
  {
   "cell_type": "markdown",
   "id": "dff63f48",
   "metadata": {},
   "source": [
    "## Extract Data (Dev)"
   ]
  },
  {
   "cell_type": "code",
   "execution_count": null,
   "id": "dc4597b2",
   "metadata": {},
   "outputs": [],
   "source": [
    "with open(\"tesla_10Q_2023-03-31.json\", \"r\") as f:\n",
    "    xbrl_json = json.load(f)"
   ]
  },
  {
   "cell_type": "code",
   "execution_count": null,
   "id": "1b89c3b5",
   "metadata": {},
   "outputs": [],
   "source": [
    "current_date = xbrl_json[\"CoverPage\"][\"DocumentPeriodEndDate\"]\n",
    "current_date"
   ]
  },
  {
   "cell_type": "code",
   "execution_count": null,
   "id": "8ce64314",
   "metadata": {},
   "outputs": [],
   "source": [
    "BalanceSheets = xbrl_json[\"BalanceSheets\"]\n",
    "StatementsOfIncome = xbrl_json[\"StatementsOfIncome\"]\n",
    "StatementsOfCashFlows = xbrl_json[\"StatementsOfCashFlows\"]\n",
    "# StatementsOfShareholdersEquity = xbrl_json[\"StatementsOfShareholdersEquity\"]"
   ]
  },
  {
   "cell_type": "markdown",
   "id": "b11408e1",
   "metadata": {},
   "source": [
    "## Balance Sheets"
   ]
  },
  {
   "cell_type": "code",
   "execution_count": 2,
   "id": "48d2cd62",
   "metadata": {},
   "outputs": [],
   "source": [
    "def balancesheets_to_df(BalanceSheets):\n",
    "    \"\"\"\n",
    "    \"\"\"\n",
    "    df_list = []\n",
    "\n",
    "    for name in BalanceSheets.keys():\n",
    "        try:\n",
    "            df = pd.DataFrame.from_records(BalanceSheets[name])\n",
    "            df[\"period\"] = df[\"period\"].apply(lambda x: x[\"instant\"] if isinstance(x, dict) else x)\n",
    "            df[\"name\"] = name\n",
    "            df_list.append(df)\n",
    "        except Exception as ex:\n",
    "            print(name, \"---\", ex)\n",
    "    \n",
    "    return pd.concat(df_list, axis=0)"
   ]
  },
  {
   "cell_type": "code",
   "execution_count": null,
   "id": "683c0a35",
   "metadata": {},
   "outputs": [],
   "source": [
    "balancesheet_df = balancesheets_to_df(BalanceSheets)\n",
    "set(BalanceSheets.keys()).difference(set(balancesheet_df.name))"
   ]
  },
  {
   "cell_type": "code",
   "execution_count": null,
   "id": "aa00c370",
   "metadata": {},
   "outputs": [],
   "source": [
    "(balancesheet_df.query(\"segment.isna()\").value_counts([\"name\", \"period\"]) == 1).mean()"
   ]
  },
  {
   "cell_type": "code",
   "execution_count": null,
   "id": "50a92cdd",
   "metadata": {
    "scrolled": true
   },
   "outputs": [],
   "source": [
    "# balancesheet_df.query(\"segment.isna() and period == @current_date\")"
   ]
  },
  {
   "cell_type": "markdown",
   "id": "b919a1dd",
   "metadata": {},
   "source": [
    "## Statements of Income"
   ]
  },
  {
   "cell_type": "code",
   "execution_count": 3,
   "id": "6da736f2",
   "metadata": {},
   "outputs": [],
   "source": [
    "def incomestatement_to_df(StatementsOfIncome):\n",
    "    \"\"\"\n",
    "    \"\"\"\n",
    "    df_list = []\n",
    "\n",
    "    for name in StatementsOfIncome.keys():\n",
    "        try:\n",
    "            df = pd.DataFrame.from_records(StatementsOfIncome[name])\n",
    "            df[\"startDate\"] = df[\"period\"].apply(lambda x: x[\"startDate\"] if isinstance(x, dict) else x)\n",
    "            df[\"endDate\"] = df[\"period\"].apply(lambda x: x[\"endDate\"] if isinstance(x, dict) else x)\n",
    "            df[\"name\"] = name\n",
    "            df_list.append(df)\n",
    "        except Exception as ex:\n",
    "            print(name, \"---\", ex)\n",
    "    \n",
    "    return pd.concat(df_list, axis=0)"
   ]
  },
  {
   "cell_type": "code",
   "execution_count": null,
   "id": "97f8ca40",
   "metadata": {},
   "outputs": [],
   "source": [
    "income_df = incomestatement_to_df(StatementsOfIncome)\n",
    "set(StatementsOfIncome.keys()).difference(set(income_df.name))"
   ]
  },
  {
   "cell_type": "code",
   "execution_count": null,
   "id": "8b094e5e",
   "metadata": {},
   "outputs": [],
   "source": [
    "(income_df.query(\"segment.isna()\").value_counts([\"name\", \"startDate\", \"endDate\"]) == 1).mean()"
   ]
  },
  {
   "cell_type": "code",
   "execution_count": null,
   "id": "8df447cf",
   "metadata": {
    "scrolled": true
   },
   "outputs": [],
   "source": [
    "(income_df.query(\"segment.isna()\").value_counts([\"endDate\", \"name\"]) == 2).mean()"
   ]
  },
  {
   "cell_type": "code",
   "execution_count": null,
   "id": "167fe2c2",
   "metadata": {
    "scrolled": true
   },
   "outputs": [],
   "source": [
    "# (income_df.query(\"segment.isna() and endDate == @current_date\")\n",
    "#  .sort_values([\"name\", \"startDate\"]).groupby([\"name\"]).tail(1))"
   ]
  },
  {
   "cell_type": "code",
   "execution_count": null,
   "id": "08624f48",
   "metadata": {},
   "outputs": [],
   "source": []
  },
  {
   "cell_type": "markdown",
   "id": "12d060b0",
   "metadata": {},
   "source": [
    "## Extract Data (prod.)"
   ]
  },
  {
   "cell_type": "code",
   "execution_count": 5,
   "id": "1138c1fd",
   "metadata": {},
   "outputs": [
    {
     "name": "stdout",
     "output_type": "stream",
     "text": [
      "tesla_10Q_2017-03-31.json\n",
      "tesla_10Q_2017-06-30.json\n",
      "tesla_10Q_2017-09-30.json\n",
      "tesla_10Q_2018-03-31.json\n",
      "tesla_10Q_2018-06-30.json\n",
      "tesla_10Q_2018-09-30.json\n",
      "tesla_10Q_2019-03-31.json\n",
      "tesla_10Q_2019-06-30.json\n",
      "tesla_10Q_2019-09-30.json\n",
      "tesla_10Q_2020-03-31.json\n",
      "tesla_10Q_2020-06-30.json\n",
      "tesla_10Q_2020-09-30.json\n",
      "tesla_10Q_2021-03-31.json\n",
      "tesla_10Q_2021-06-30.json\n",
      "tesla_10Q_2021-09-30.json\n",
      "tesla_10Q_2022-03-31.json\n",
      "tesla_10Q_2022-06-30.json\n",
      "tesla_10Q_2022-09-30.json\n",
      "tesla_10Q_2023-03-31.json\n",
      "tesla_10Q_2023-06-30.json\n",
      "CPU times: total: 3.58 s\n",
      "Wall time: 3.61 s\n"
     ]
    }
   ],
   "source": [
    "%%time\n",
    "files = [i for i in os.listdir() if re.match(\".*.json$\", i)]\n",
    "bs_lst, inc_lst = [], []\n",
    "\n",
    "for file in files:\n",
    "    print(file)\n",
    "    with open(file, \"r\") as f:\n",
    "        xbrl_json = json.load(f)\n",
    "    \n",
    "    current_date = xbrl_json[\"CoverPage\"][\"DocumentPeriodEndDate\"]\n",
    "    BalanceSheets = xbrl_json[\"BalanceSheets\"]\n",
    "    StatementsOfIncome = xbrl_json[\"StatementsOfIncome\"]\n",
    "    \n",
    "    balancesheet_df = balancesheets_to_df(BalanceSheets)\n",
    "    balancesheet_df = balancesheet_df.query(\"segment.isna() and period == @current_date\")\n",
    "    bs_lst.append(balancesheet_df)\n",
    "    \n",
    "    income_df = incomestatement_to_df(StatementsOfIncome)\n",
    "    income_df = income_df.query(\"endDate == @current_date\")\n",
    "#     income_df = (income_df\n",
    "#                  .query(\"segment.isna() and endDate == @current_date\")\n",
    "#                  .sort_values([\"name\", \"startDate\"])\n",
    "#                  .groupby([\"name\"])\n",
    "#                  .tail(1))\n",
    "    inc_lst.append(income_df)"
   ]
  },
  {
   "cell_type": "code",
   "execution_count": 30,
   "id": "62016720",
   "metadata": {},
   "outputs": [],
   "source": [
    "income_df = pd.concat(inc_lst, axis=0)\n",
    "days_diff = (pd.to_datetime(income_df[\"endDate\"]) - pd.to_datetime(income_df[\"startDate\"])).dt.days\n",
    "income_df = income_df[(days_diff <= 95) & (days_diff >= 87)]"
   ]
  },
  {
   "cell_type": "code",
   "execution_count": 35,
   "id": "7709eff1",
   "metadata": {},
   "outputs": [
    {
     "ename": "ValueError",
     "evalue": "Index contains duplicate entries, cannot reshape",
     "output_type": "error",
     "traceback": [
      "\u001b[1;31m---------------------------------------------------------------------------\u001b[0m",
      "\u001b[1;31mValueError\u001b[0m                                Traceback (most recent call last)",
      "Cell \u001b[1;32mIn[35], line 1\u001b[0m\n\u001b[1;32m----> 1\u001b[0m (\u001b[43mincome_df\u001b[49m\n\u001b[0;32m      2\u001b[0m \u001b[43m \u001b[49m\u001b[38;5;241;43m.\u001b[39;49m\u001b[43mpivot\u001b[49m\u001b[43m(\u001b[49m\u001b[43mindex\u001b[49m\u001b[38;5;241;43m=\u001b[39;49m\u001b[43m[\u001b[49m\u001b[38;5;124;43m\"\u001b[39;49m\u001b[38;5;124;43mstartDate\u001b[39;49m\u001b[38;5;124;43m\"\u001b[39;49m\u001b[43m,\u001b[49m\u001b[43m \u001b[49m\u001b[38;5;124;43m\"\u001b[39;49m\u001b[38;5;124;43mendDate\u001b[39;49m\u001b[38;5;124;43m\"\u001b[39;49m\u001b[43m]\u001b[49m\u001b[43m,\u001b[49m\u001b[43m \u001b[49m\u001b[43mcolumns\u001b[49m\u001b[38;5;241;43m=\u001b[39;49m\u001b[43m[\u001b[49m\u001b[38;5;124;43m\"\u001b[39;49m\u001b[38;5;124;43mname\u001b[39;49m\u001b[38;5;124;43m\"\u001b[39;49m\u001b[43m]\u001b[49m\u001b[43m,\u001b[49m\u001b[43m \u001b[49m\u001b[43mvalues\u001b[49m\u001b[38;5;241;43m=\u001b[39;49m\u001b[38;5;124;43m\"\u001b[39;49m\u001b[38;5;124;43mvalue\u001b[39;49m\u001b[38;5;124;43m\"\u001b[39;49m\u001b[43m)\u001b[49m\n\u001b[0;32m      3\u001b[0m  \u001b[38;5;241m.\u001b[39misna()\u001b[38;5;241m.\u001b[39mmean(axis\u001b[38;5;241m=\u001b[39m\u001b[38;5;241m0\u001b[39m)\n\u001b[0;32m      4\u001b[0m  \u001b[38;5;241m.\u001b[39msort_values())\n",
      "File \u001b[1;32m~\\anaconda3\\lib\\site-packages\\pandas\\util\\_decorators.py:331\u001b[0m, in \u001b[0;36mdeprecate_nonkeyword_arguments.<locals>.decorate.<locals>.wrapper\u001b[1;34m(*args, **kwargs)\u001b[0m\n\u001b[0;32m    325\u001b[0m \u001b[38;5;28;01mif\u001b[39;00m \u001b[38;5;28mlen\u001b[39m(args) \u001b[38;5;241m>\u001b[39m num_allow_args:\n\u001b[0;32m    326\u001b[0m     warnings\u001b[38;5;241m.\u001b[39mwarn(\n\u001b[0;32m    327\u001b[0m         msg\u001b[38;5;241m.\u001b[39mformat(arguments\u001b[38;5;241m=\u001b[39m_format_argument_list(allow_args)),\n\u001b[0;32m    328\u001b[0m         \u001b[38;5;167;01mFutureWarning\u001b[39;00m,\n\u001b[0;32m    329\u001b[0m         stacklevel\u001b[38;5;241m=\u001b[39mfind_stack_level(),\n\u001b[0;32m    330\u001b[0m     )\n\u001b[1;32m--> 331\u001b[0m \u001b[38;5;28;01mreturn\u001b[39;00m func(\u001b[38;5;241m*\u001b[39margs, \u001b[38;5;241m*\u001b[39m\u001b[38;5;241m*\u001b[39mkwargs)\n",
      "File \u001b[1;32m~\\anaconda3\\lib\\site-packages\\pandas\\core\\frame.py:8567\u001b[0m, in \u001b[0;36mDataFrame.pivot\u001b[1;34m(self, index, columns, values)\u001b[0m\n\u001b[0;32m   8561\u001b[0m \u001b[38;5;129m@Substitution\u001b[39m(\u001b[38;5;124m\"\u001b[39m\u001b[38;5;124m\"\u001b[39m)\n\u001b[0;32m   8562\u001b[0m \u001b[38;5;129m@Appender\u001b[39m(_shared_docs[\u001b[38;5;124m\"\u001b[39m\u001b[38;5;124mpivot\u001b[39m\u001b[38;5;124m\"\u001b[39m])\n\u001b[0;32m   8563\u001b[0m \u001b[38;5;129m@deprecate_nonkeyword_arguments\u001b[39m(version\u001b[38;5;241m=\u001b[39m\u001b[38;5;28;01mNone\u001b[39;00m, allowed_args\u001b[38;5;241m=\u001b[39m[\u001b[38;5;124m\"\u001b[39m\u001b[38;5;124mself\u001b[39m\u001b[38;5;124m\"\u001b[39m])\n\u001b[0;32m   8564\u001b[0m \u001b[38;5;28;01mdef\u001b[39;00m \u001b[38;5;21mpivot\u001b[39m(\u001b[38;5;28mself\u001b[39m, index\u001b[38;5;241m=\u001b[39m\u001b[38;5;28;01mNone\u001b[39;00m, columns\u001b[38;5;241m=\u001b[39m\u001b[38;5;28;01mNone\u001b[39;00m, values\u001b[38;5;241m=\u001b[39m\u001b[38;5;28;01mNone\u001b[39;00m) \u001b[38;5;241m-\u001b[39m\u001b[38;5;241m>\u001b[39m DataFrame:\n\u001b[0;32m   8565\u001b[0m     \u001b[38;5;28;01mfrom\u001b[39;00m \u001b[38;5;21;01mpandas\u001b[39;00m\u001b[38;5;21;01m.\u001b[39;00m\u001b[38;5;21;01mcore\u001b[39;00m\u001b[38;5;21;01m.\u001b[39;00m\u001b[38;5;21;01mreshape\u001b[39;00m\u001b[38;5;21;01m.\u001b[39;00m\u001b[38;5;21;01mpivot\u001b[39;00m \u001b[38;5;28;01mimport\u001b[39;00m pivot\n\u001b[1;32m-> 8567\u001b[0m     \u001b[38;5;28;01mreturn\u001b[39;00m \u001b[43mpivot\u001b[49m\u001b[43m(\u001b[49m\u001b[38;5;28;43mself\u001b[39;49m\u001b[43m,\u001b[49m\u001b[43m \u001b[49m\u001b[43mindex\u001b[49m\u001b[38;5;241;43m=\u001b[39;49m\u001b[43mindex\u001b[49m\u001b[43m,\u001b[49m\u001b[43m \u001b[49m\u001b[43mcolumns\u001b[49m\u001b[38;5;241;43m=\u001b[39;49m\u001b[43mcolumns\u001b[49m\u001b[43m,\u001b[49m\u001b[43m \u001b[49m\u001b[43mvalues\u001b[49m\u001b[38;5;241;43m=\u001b[39;49m\u001b[43mvalues\u001b[49m\u001b[43m)\u001b[49m\n",
      "File \u001b[1;32m~\\anaconda3\\lib\\site-packages\\pandas\\util\\_decorators.py:331\u001b[0m, in \u001b[0;36mdeprecate_nonkeyword_arguments.<locals>.decorate.<locals>.wrapper\u001b[1;34m(*args, **kwargs)\u001b[0m\n\u001b[0;32m    325\u001b[0m \u001b[38;5;28;01mif\u001b[39;00m \u001b[38;5;28mlen\u001b[39m(args) \u001b[38;5;241m>\u001b[39m num_allow_args:\n\u001b[0;32m    326\u001b[0m     warnings\u001b[38;5;241m.\u001b[39mwarn(\n\u001b[0;32m    327\u001b[0m         msg\u001b[38;5;241m.\u001b[39mformat(arguments\u001b[38;5;241m=\u001b[39m_format_argument_list(allow_args)),\n\u001b[0;32m    328\u001b[0m         \u001b[38;5;167;01mFutureWarning\u001b[39;00m,\n\u001b[0;32m    329\u001b[0m         stacklevel\u001b[38;5;241m=\u001b[39mfind_stack_level(),\n\u001b[0;32m    330\u001b[0m     )\n\u001b[1;32m--> 331\u001b[0m \u001b[38;5;28;01mreturn\u001b[39;00m func(\u001b[38;5;241m*\u001b[39margs, \u001b[38;5;241m*\u001b[39m\u001b[38;5;241m*\u001b[39mkwargs)\n",
      "File \u001b[1;32m~\\anaconda3\\lib\\site-packages\\pandas\\core\\reshape\\pivot.py:540\u001b[0m, in \u001b[0;36mpivot\u001b[1;34m(data, index, columns, values)\u001b[0m\n\u001b[0;32m    536\u001b[0m         indexed \u001b[38;5;241m=\u001b[39m data\u001b[38;5;241m.\u001b[39m_constructor_sliced(data[values]\u001b[38;5;241m.\u001b[39m_values, index\u001b[38;5;241m=\u001b[39mmultiindex)\n\u001b[0;32m    537\u001b[0m \u001b[38;5;66;03m# error: Argument 1 to \"unstack\" of \"DataFrame\" has incompatible type \"Union\u001b[39;00m\n\u001b[0;32m    538\u001b[0m \u001b[38;5;66;03m# [List[Any], ExtensionArray, ndarray[Any, Any], Index, Series]\"; expected\u001b[39;00m\n\u001b[0;32m    539\u001b[0m \u001b[38;5;66;03m# \"Hashable\"\u001b[39;00m\n\u001b[1;32m--> 540\u001b[0m \u001b[38;5;28;01mreturn\u001b[39;00m \u001b[43mindexed\u001b[49m\u001b[38;5;241;43m.\u001b[39;49m\u001b[43munstack\u001b[49m\u001b[43m(\u001b[49m\u001b[43mcolumns_listlike\u001b[49m\u001b[43m)\u001b[49m\n",
      "File \u001b[1;32m~\\anaconda3\\lib\\site-packages\\pandas\\core\\series.py:4455\u001b[0m, in \u001b[0;36mSeries.unstack\u001b[1;34m(self, level, fill_value)\u001b[0m\n\u001b[0;32m   4412\u001b[0m \u001b[38;5;124;03m\"\"\"\u001b[39;00m\n\u001b[0;32m   4413\u001b[0m \u001b[38;5;124;03mUnstack, also known as pivot, Series with MultiIndex to produce DataFrame.\u001b[39;00m\n\u001b[0;32m   4414\u001b[0m \n\u001b[1;32m   (...)\u001b[0m\n\u001b[0;32m   4451\u001b[0m \u001b[38;5;124;03mb    2    4\u001b[39;00m\n\u001b[0;32m   4452\u001b[0m \u001b[38;5;124;03m\"\"\"\u001b[39;00m\n\u001b[0;32m   4453\u001b[0m \u001b[38;5;28;01mfrom\u001b[39;00m \u001b[38;5;21;01mpandas\u001b[39;00m\u001b[38;5;21;01m.\u001b[39;00m\u001b[38;5;21;01mcore\u001b[39;00m\u001b[38;5;21;01m.\u001b[39;00m\u001b[38;5;21;01mreshape\u001b[39;00m\u001b[38;5;21;01m.\u001b[39;00m\u001b[38;5;21;01mreshape\u001b[39;00m \u001b[38;5;28;01mimport\u001b[39;00m unstack\n\u001b[1;32m-> 4455\u001b[0m \u001b[38;5;28;01mreturn\u001b[39;00m \u001b[43munstack\u001b[49m\u001b[43m(\u001b[49m\u001b[38;5;28;43mself\u001b[39;49m\u001b[43m,\u001b[49m\u001b[43m \u001b[49m\u001b[43mlevel\u001b[49m\u001b[43m,\u001b[49m\u001b[43m \u001b[49m\u001b[43mfill_value\u001b[49m\u001b[43m)\u001b[49m\n",
      "File \u001b[1;32m~\\anaconda3\\lib\\site-packages\\pandas\\core\\reshape\\reshape.py:489\u001b[0m, in \u001b[0;36munstack\u001b[1;34m(obj, level, fill_value)\u001b[0m\n\u001b[0;32m    487\u001b[0m \u001b[38;5;28;01mif\u001b[39;00m is_1d_only_ea_dtype(obj\u001b[38;5;241m.\u001b[39mdtype):\n\u001b[0;32m    488\u001b[0m     \u001b[38;5;28;01mreturn\u001b[39;00m _unstack_extension_series(obj, level, fill_value)\n\u001b[1;32m--> 489\u001b[0m unstacker \u001b[38;5;241m=\u001b[39m \u001b[43m_Unstacker\u001b[49m\u001b[43m(\u001b[49m\n\u001b[0;32m    490\u001b[0m \u001b[43m    \u001b[49m\u001b[43mobj\u001b[49m\u001b[38;5;241;43m.\u001b[39;49m\u001b[43mindex\u001b[49m\u001b[43m,\u001b[49m\u001b[43m \u001b[49m\u001b[43mlevel\u001b[49m\u001b[38;5;241;43m=\u001b[39;49m\u001b[43mlevel\u001b[49m\u001b[43m,\u001b[49m\u001b[43m \u001b[49m\u001b[43mconstructor\u001b[49m\u001b[38;5;241;43m=\u001b[39;49m\u001b[43mobj\u001b[49m\u001b[38;5;241;43m.\u001b[39;49m\u001b[43m_constructor_expanddim\u001b[49m\n\u001b[0;32m    491\u001b[0m \u001b[43m\u001b[49m\u001b[43m)\u001b[49m\n\u001b[0;32m    492\u001b[0m \u001b[38;5;28;01mreturn\u001b[39;00m unstacker\u001b[38;5;241m.\u001b[39mget_result(\n\u001b[0;32m    493\u001b[0m     obj\u001b[38;5;241m.\u001b[39m_values, value_columns\u001b[38;5;241m=\u001b[39m\u001b[38;5;28;01mNone\u001b[39;00m, fill_value\u001b[38;5;241m=\u001b[39mfill_value\n\u001b[0;32m    494\u001b[0m )\n",
      "File \u001b[1;32m~\\anaconda3\\lib\\site-packages\\pandas\\core\\reshape\\reshape.py:137\u001b[0m, in \u001b[0;36m_Unstacker.__init__\u001b[1;34m(self, index, level, constructor)\u001b[0m\n\u001b[0;32m    129\u001b[0m \u001b[38;5;28;01mif\u001b[39;00m num_cells \u001b[38;5;241m>\u001b[39m np\u001b[38;5;241m.\u001b[39miinfo(np\u001b[38;5;241m.\u001b[39mint32)\u001b[38;5;241m.\u001b[39mmax:\n\u001b[0;32m    130\u001b[0m     warnings\u001b[38;5;241m.\u001b[39mwarn(\n\u001b[0;32m    131\u001b[0m         \u001b[38;5;124mf\u001b[39m\u001b[38;5;124m\"\u001b[39m\u001b[38;5;124mThe following operation may generate \u001b[39m\u001b[38;5;132;01m{\u001b[39;00mnum_cells\u001b[38;5;132;01m}\u001b[39;00m\u001b[38;5;124m cells \u001b[39m\u001b[38;5;124m\"\u001b[39m\n\u001b[0;32m    132\u001b[0m         \u001b[38;5;124mf\u001b[39m\u001b[38;5;124m\"\u001b[39m\u001b[38;5;124min the resulting pandas object.\u001b[39m\u001b[38;5;124m\"\u001b[39m,\n\u001b[0;32m    133\u001b[0m         PerformanceWarning,\n\u001b[0;32m    134\u001b[0m         stacklevel\u001b[38;5;241m=\u001b[39mfind_stack_level(),\n\u001b[0;32m    135\u001b[0m     )\n\u001b[1;32m--> 137\u001b[0m \u001b[38;5;28;43mself\u001b[39;49m\u001b[38;5;241;43m.\u001b[39;49m\u001b[43m_make_selectors\u001b[49m\u001b[43m(\u001b[49m\u001b[43m)\u001b[49m\n",
      "File \u001b[1;32m~\\anaconda3\\lib\\site-packages\\pandas\\core\\reshape\\reshape.py:189\u001b[0m, in \u001b[0;36m_Unstacker._make_selectors\u001b[1;34m(self)\u001b[0m\n\u001b[0;32m    186\u001b[0m mask\u001b[38;5;241m.\u001b[39mput(selector, \u001b[38;5;28;01mTrue\u001b[39;00m)\n\u001b[0;32m    188\u001b[0m \u001b[38;5;28;01mif\u001b[39;00m mask\u001b[38;5;241m.\u001b[39msum() \u001b[38;5;241m<\u001b[39m \u001b[38;5;28mlen\u001b[39m(\u001b[38;5;28mself\u001b[39m\u001b[38;5;241m.\u001b[39mindex):\n\u001b[1;32m--> 189\u001b[0m     \u001b[38;5;28;01mraise\u001b[39;00m \u001b[38;5;167;01mValueError\u001b[39;00m(\u001b[38;5;124m\"\u001b[39m\u001b[38;5;124mIndex contains duplicate entries, cannot reshape\u001b[39m\u001b[38;5;124m\"\u001b[39m)\n\u001b[0;32m    191\u001b[0m \u001b[38;5;28mself\u001b[39m\u001b[38;5;241m.\u001b[39mgroup_index \u001b[38;5;241m=\u001b[39m comp_index\n\u001b[0;32m    192\u001b[0m \u001b[38;5;28mself\u001b[39m\u001b[38;5;241m.\u001b[39mmask \u001b[38;5;241m=\u001b[39m mask\n",
      "\u001b[1;31mValueError\u001b[0m: Index contains duplicate entries, cannot reshape"
     ]
    }
   ],
   "source": [
    "(income_df\n",
    " .pivot(index=[\"startDate\", \"endDate\"], columns=[\"name\"], values=\"value\")\n",
    " .isna().mean(axis=0)\n",
    " .sort_values())"
   ]
  },
  {
   "cell_type": "code",
   "execution_count": 34,
   "id": "893aa2b0",
   "metadata": {},
   "outputs": [
    {
     "data": {
      "text/plain": [
       "name\n",
       "AccountsPayableCurrent                                   0.00\n",
       "RetainedEarningsAccumulatedDeficit                       0.00\n",
       "RedeemableNoncontrollingInterestEquityCarryingAmount     0.00\n",
       "PropertyPlantAndEquipmentNet                             0.00\n",
       "PrepaidExpenseAndOtherAssetsCurrent                      0.00\n",
       "OtherLiabilitiesNoncurrent                               0.00\n",
       "OtherAssetsNoncurrent                                    0.00\n",
       "MinorityInterest                                         0.00\n",
       "LiabilitiesCurrent                                       0.00\n",
       "StockholdersEquity                                       0.00\n",
       "Liabilities                                              0.00\n",
       "InventoryNet                                             0.00\n",
       "IntangibleAssetsNetExcludingGoodwill                     0.00\n",
       "Goodwill                                                 0.00\n",
       "LiabilitiesAndStockholdersEquity                         0.00\n",
       "AssetsCurrent                                            0.00\n",
       "AccountsReceivableNetCurrent                             0.00\n",
       "AccumulatedOtherComprehensiveIncomeLossNetOfTax          0.00\n",
       "AdditionalPaidInCapitalCommonStock                       0.00\n",
       "Assets                                                   0.00\n",
       "CommonStockValue                                         0.00\n",
       "CashAndCashEquivalentsAtCarryingValue                    0.00\n",
       "AccruedAndOtherCurrentLiabilities                        0.15\n",
       "ContractWithCustomerLiabilityNoncurrent                  0.20\n",
       "ContractWithCustomerLiabilityCurrent                     0.20\n",
       "OperatingLeaseRightOfUseAsset                            0.30\n",
       "LongTermDebtAndFinanceLeasesNoncurrent                   0.30\n",
       "LongTermDebtAndFinanceLeasesCurrent                      0.30\n",
       "CustomerDepositsLiabilitiesCurrent                       0.30\n",
       "LongTermAccountsNotesAndLoansReceivableNetNoncurrent     0.55\n",
       "ResaleValueGuaranteesNoncurrentPortion                   0.55\n",
       "ResaleValueGuaranteesCurrentPortion                      0.55\n",
       "RestrictedCashCurrent                                    0.60\n",
       "DigitalAssetsNetNonCurrent                               0.60\n",
       "TemporaryEquityCarryingAmountAttributableToParent        0.65\n",
       "RestrictedCashAndCashEquivalentsNoncurrent               0.70\n",
       "LongTermDebtAndCapitalLeaseObligationsCurrent            0.70\n",
       "LongTermDebtAndCapitalLeaseObligations                   0.70\n",
       "ConvertibleSeniorNotesIssueToRelatedPartiesNonCurrent    0.70\n",
       "CustomerDepositsCurrent                                  0.70\n",
       "MarketableSecuritiesCurrent                              0.80\n",
       "DeferredRevenueCurrent                                   0.80\n",
       "PreferredStockValue                                      0.80\n",
       "DeferredRevenueNoncurrent                                0.80\n",
       "AccruedLiabilitiesCurrent                                0.85\n",
       "RestrictedCashNoncurrent                                 0.85\n",
       "ShortTermInvestments                                     0.90\n",
       "DueToRelatedPartiesCurrent                               0.95\n",
       "RestrictedCashAndCashEquivalentsAtCarryingValue          0.95\n",
       "CommitmentsAndContingencies                              1.00\n",
       "dtype: float64"
      ]
     },
     "execution_count": 34,
     "metadata": {},
     "output_type": "execute_result"
    }
   ],
   "source": [
    "balancesheet_df = pd.concat(bs_lst, axis=0)\n",
    "\n",
    "(balancesheet_df\n",
    " .drop_duplicates([\"period\", \"name\"])\n",
    " .pivot(index=[\"period\"], columns=[\"name\"], values=\"value\")\n",
    " .isna().mean(axis=0)\n",
    " .sort_values())"
   ]
  }
 ],
 "metadata": {
  "kernelspec": {
   "display_name": "Python 3 (ipykernel)",
   "language": "python",
   "name": "python3"
  },
  "language_info": {
   "codemirror_mode": {
    "name": "ipython",
    "version": 3
   },
   "file_extension": ".py",
   "mimetype": "text/x-python",
   "name": "python",
   "nbconvert_exporter": "python",
   "pygments_lexer": "ipython3",
   "version": "3.10.9"
  }
 },
 "nbformat": 4,
 "nbformat_minor": 5
}
