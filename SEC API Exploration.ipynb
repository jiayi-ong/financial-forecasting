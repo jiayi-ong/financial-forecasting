{
 "cells": [
  {
   "cell_type": "code",
   "execution_count": 1,
   "id": "d71671cf",
   "metadata": {},
   "outputs": [],
   "source": [
    "import json\n",
    "import warnings\n",
    "import pandas as pd\n",
    "pd.options.mode.chained_assignment = None\n",
    "from sec_api import QueryApi, XbrlApi"
   ]
  },
  {
   "cell_type": "code",
   "execution_count": 80,
   "id": "34e24d81",
   "metadata": {},
   "outputs": [],
   "source": [
    "api_key = \"e3d46df2271d81a4b7a71153aef74fa5e7dae956314122b155767267425b36a6\""
   ]
  },
  {
   "cell_type": "markdown",
   "id": "6a9a8e7a",
   "metadata": {},
   "source": [
    "# Query 20 most recent 10Q Info"
   ]
  },
  {
   "cell_type": "code",
   "execution_count": null,
   "id": "a4c72601",
   "metadata": {},
   "outputs": [],
   "source": [
    "# queryAPI = QueryApi(api_key=api_key)"
   ]
  },
  {
   "cell_type": "code",
   "execution_count": null,
   "id": "f21ddced",
   "metadata": {},
   "outputs": [],
   "source": [
    "# query = {\"query\": {\n",
    "#             \"query_string\": {\n",
    "#                 \"query\": \"ticker:TSLA AND formType:\\\"10-Q\\\"\",\n",
    "#                     }\n",
    "#                 },\n",
    "#          \"from\": \"0\",\n",
    "#          \"size\": 4*5,\n",
    "#          \"sort\": [{\"filedAt\": {\"order\": \"desc\"}}]\n",
    "#             }"
   ]
  },
  {
   "cell_type": "code",
   "execution_count": null,
   "id": "4c4296c5",
   "metadata": {},
   "outputs": [],
   "source": [
    "# response = queryAPI.get_filings(query)\n",
    "# response_parsed = pd.DataFrame.from_records(response[\"filings\"])"
   ]
  },
  {
   "cell_type": "code",
   "execution_count": 74,
   "id": "85b47e0d",
   "metadata": {
    "scrolled": true
   },
   "outputs": [],
   "source": [
    "# response_parsed.to_csv(\"TSLA_10Q_INFO_2017Q1_2023Q2.csv\", index=False)\n",
    "response_parsed = pd.read_csv(\"TSLA_10Q_INFO_2017Q1_2023Q2.csv\")"
   ]
  },
  {
   "cell_type": "markdown",
   "id": "2a6136f2",
   "metadata": {},
   "source": [
    "# Parse 10Q"
   ]
  },
  {
   "cell_type": "code",
   "execution_count": 81,
   "id": "6c00fca0",
   "metadata": {},
   "outputs": [],
   "source": [
    "# xbrlAPI = XbrlApi(api_key)"
   ]
  },
  {
   "cell_type": "code",
   "execution_count": 94,
   "id": "9f2757ee",
   "metadata": {},
   "outputs": [
    {
     "name": "stdout",
     "output_type": "stream",
     "text": [
      "CPU times: total: 4.41 s\n",
      "Wall time: 10.9 s\n"
     ]
    }
   ],
   "source": [
    "# %%time\n",
    "# for date, url in response_parsed[[\"periodOfReport\", \"linkToFilingDetails\"]].values:\n",
    "#     xbrl_json = xbrlAPI.xbrl_to_json(url)\n",
    "    \n",
    "#     with open(f\"tesla_10Q_{date}.json\", \"w\") as f:\n",
    "#         json.dump(xbrl_json, f)"
   ]
  },
  {
   "cell_type": "markdown",
   "id": "1f337816",
   "metadata": {},
   "source": [
    "## Extract Data"
   ]
  },
  {
   "cell_type": "code",
   "execution_count": 2,
   "id": "a0559e22",
   "metadata": {},
   "outputs": [],
   "source": [
    "with open(\"tesla_10Q_2023-06-30.json\", \"r\") as f:\n",
    "    xbrl_json = json.load(f)"
   ]
  },
  {
   "cell_type": "code",
   "execution_count": 62,
   "id": "dabb7bb7",
   "metadata": {},
   "outputs": [
    {
     "data": {
      "text/plain": [
       "'2023-06-30'"
      ]
     },
     "execution_count": 62,
     "metadata": {},
     "output_type": "execute_result"
    }
   ],
   "source": [
    "current_date = xbrl_json[\"CoverPage\"][\"DocumentPeriodEndDate\"]\n",
    "current_date"
   ]
  },
  {
   "cell_type": "code",
   "execution_count": 4,
   "id": "03e17c72",
   "metadata": {},
   "outputs": [],
   "source": [
    "BalanceSheets = xbrl_json[\"BalanceSheets\"]\n",
    "StatementsOfIncome = xbrl_json[\"StatementsOfIncome\"]\n",
    "StatementsOfCashFlows = xbrl_json[\"StatementsOfCashFlows\"]\n",
    "StatementsOfShareholdersEquity = xbrl_json[\"StatementsOfShareholdersEquity\"]"
   ]
  },
  {
   "cell_type": "markdown",
   "id": "ce29e4a5",
   "metadata": {},
   "source": [
    "## Balance Sheets"
   ]
  },
  {
   "cell_type": "code",
   "execution_count": 20,
   "id": "78842b1a",
   "metadata": {},
   "outputs": [],
   "source": [
    "def balancesheets_to_df(BalanceSheets):\n",
    "    \"\"\"\n",
    "    \"\"\"\n",
    "    df_list = []\n",
    "\n",
    "    for name in BalanceSheets.keys():\n",
    "        try:\n",
    "            df = pd.DataFrame.from_records(BalanceSheets[name])\n",
    "            df[\"period\"] = df[\"period\"].apply(lambda x: x[\"instant\"])\n",
    "            df[\"name\"] = name\n",
    "            df_list.append(df)\n",
    "        except Exception as ex:\n",
    "            print(name, \"---\", ex)\n",
    "    \n",
    "    return pd.concat(df_list, axis=0)"
   ]
  },
  {
   "cell_type": "code",
   "execution_count": 21,
   "id": "a70a26f9",
   "metadata": {},
   "outputs": [
    {
     "data": {
      "text/plain": [
       "set()"
      ]
     },
     "execution_count": 21,
     "metadata": {},
     "output_type": "execute_result"
    }
   ],
   "source": [
    "balancesheet_df = balancesheets_to_df(BalanceSheets)\n",
    "set(BalanceSheets.keys()).difference(set(balancesheet_df.name))"
   ]
  },
  {
   "cell_type": "code",
   "execution_count": 47,
   "id": "5606fa25",
   "metadata": {},
   "outputs": [
    {
     "data": {
      "text/plain": [
       "1.0"
      ]
     },
     "execution_count": 47,
     "metadata": {},
     "output_type": "execute_result"
    }
   ],
   "source": [
    "(balancesheet_df.query(\"segment.isna()\").value_counts([\"name\", \"period\"]) == 1).mean()"
   ]
  },
  {
   "cell_type": "code",
   "execution_count": 64,
   "id": "7b1f93bb",
   "metadata": {
    "scrolled": true
   },
   "outputs": [],
   "source": [
    "# balancesheet_df.query(\"segment.isna() and period == @current_date\")"
   ]
  },
  {
   "cell_type": "markdown",
   "id": "ec12b9cd",
   "metadata": {},
   "source": [
    "## Statements of Income"
   ]
  },
  {
   "cell_type": "code",
   "execution_count": 55,
   "id": "29cf6921",
   "metadata": {},
   "outputs": [],
   "source": [
    "def incomestatement_to_df(StatementsOfIncome):\n",
    "    \"\"\"\n",
    "    \"\"\"\n",
    "    df_list = []\n",
    "\n",
    "    for name in StatementsOfIncome.keys():\n",
    "        try:\n",
    "            df = pd.DataFrame.from_records(StatementsOfIncome[name])\n",
    "            df[\"startDate\"] = df[\"period\"].apply(lambda x: x[\"startDate\"])\n",
    "            df[\"endDate\"] = df[\"period\"].apply(lambda x: x[\"endDate\"])\n",
    "            df[\"name\"] = name\n",
    "            df_list.append(df)\n",
    "        except Exception as ex:\n",
    "            print(name, \"---\", ex)\n",
    "    \n",
    "    return pd.concat(df_list, axis=0)"
   ]
  },
  {
   "cell_type": "code",
   "execution_count": 56,
   "id": "793fce2d",
   "metadata": {},
   "outputs": [
    {
     "data": {
      "text/plain": [
       "set()"
      ]
     },
     "execution_count": 56,
     "metadata": {},
     "output_type": "execute_result"
    }
   ],
   "source": [
    "income_df = incomestatement_to_df(StatementsOfIncome)\n",
    "set(StatementsOfIncome.keys()).difference(set(income_df.name))"
   ]
  },
  {
   "cell_type": "code",
   "execution_count": 60,
   "id": "7cb51520",
   "metadata": {},
   "outputs": [
    {
     "data": {
      "text/plain": [
       "1.0"
      ]
     },
     "execution_count": 60,
     "metadata": {},
     "output_type": "execute_result"
    }
   ],
   "source": [
    "(income_df.query(\"segment.isna()\").value_counts([\"name\", \"startDate\", \"endDate\"]) == 1).mean()"
   ]
  },
  {
   "cell_type": "code",
   "execution_count": 69,
   "id": "c2fa40a5",
   "metadata": {
    "scrolled": true
   },
   "outputs": [
    {
     "data": {
      "text/plain": [
       "1.0"
      ]
     },
     "execution_count": 69,
     "metadata": {},
     "output_type": "execute_result"
    }
   ],
   "source": [
    "(income_df.query(\"segment.isna()\").value_counts([\"endDate\", \"name\"]) == 2).mean()"
   ]
  },
  {
   "cell_type": "code",
   "execution_count": 72,
   "id": "e3f54775",
   "metadata": {
    "scrolled": true
   },
   "outputs": [],
   "source": [
    "# (income_df.query(\"segment.isna() and endDate == @current_date\")\n",
    "#  .sort_values([\"name\", \"startDate\"]).groupby([\"name\"]).tail(1))"
   ]
  }
 ],
 "metadata": {
  "kernelspec": {
   "display_name": "Python 3 (ipykernel)",
   "language": "python",
   "name": "python3"
  },
  "language_info": {
   "codemirror_mode": {
    "name": "ipython",
    "version": 3
   },
   "file_extension": ".py",
   "mimetype": "text/x-python",
   "name": "python",
   "nbconvert_exporter": "python",
   "pygments_lexer": "ipython3",
   "version": "3.10.9"
  }
 },
 "nbformat": 4,
 "nbformat_minor": 5
}
