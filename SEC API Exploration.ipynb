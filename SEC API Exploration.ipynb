{
 "cells": [
  {
   "cell_type": "code",
   "execution_count": 1,
   "id": "8c20c14a",
   "metadata": {},
   "outputs": [],
   "source": [
    "import os\n",
    "import re\n",
    "import json\n",
    "import warnings\n",
    "import pandas as pd\n",
    "pd.options.mode.chained_assignment = None\n",
    "from sec_api import QueryApi, XbrlApi"
   ]
  },
  {
   "cell_type": "code",
   "execution_count": null,
   "id": "31b873e1",
   "metadata": {},
   "outputs": [],
   "source": [
    "api_key = \"e3d46df2271d81a4b7a71153aef74fa5e7dae956314122b155767267425b36a6\""
   ]
  },
  {
   "cell_type": "markdown",
   "id": "b2fd15e2",
   "metadata": {},
   "source": [
    "# Query 20 most recent 10Q Info"
   ]
  },
  {
   "cell_type": "code",
   "execution_count": null,
   "id": "236f0d01",
   "metadata": {},
   "outputs": [],
   "source": [
    "# queryAPI = QueryApi(api_key=api_key)"
   ]
  },
  {
   "cell_type": "code",
   "execution_count": null,
   "id": "b44a6c78",
   "metadata": {},
   "outputs": [],
   "source": [
    "# query = {\"query\": {\n",
    "#             \"query_string\": {\n",
    "#                 \"query\": \"ticker:TSLA AND formType:\\\"10-Q\\\"\",\n",
    "#                     }\n",
    "#                 },\n",
    "#          \"from\": \"0\",\n",
    "#          \"size\": 4*5,\n",
    "#          \"sort\": [{\"filedAt\": {\"order\": \"desc\"}}]\n",
    "#             }"
   ]
  },
  {
   "cell_type": "code",
   "execution_count": null,
   "id": "a23b89bb",
   "metadata": {},
   "outputs": [],
   "source": [
    "### NOTE: USES UP MONTHLY API CALLS LIMIT\n",
    "# response = queryAPI.get_filings(query)\n",
    "# response_parsed = pd.DataFrame.from_records(response[\"filings\"])"
   ]
  },
  {
   "cell_type": "code",
   "execution_count": null,
   "id": "e0423292",
   "metadata": {
    "scrolled": true
   },
   "outputs": [],
   "source": [
    "# response_parsed.to_csv(\"TSLA_10Q_INFO_2017Q1_2023Q2.csv\", index=False)\n",
    "response_parsed = pd.read_csv(\"TSLA_10Q_INFO_2017Q1_2023Q2.csv\")"
   ]
  },
  {
   "cell_type": "markdown",
   "id": "e4b4bab6",
   "metadata": {},
   "source": [
    "# Parse 10Q"
   ]
  },
  {
   "cell_type": "code",
   "execution_count": null,
   "id": "4ece795d",
   "metadata": {},
   "outputs": [],
   "source": [
    "# xbrlAPI = XbrlApi(api_key)"
   ]
  },
  {
   "cell_type": "code",
   "execution_count": null,
   "id": "5c855662",
   "metadata": {},
   "outputs": [],
   "source": [
    "# %%time\n",
    "### NOTE: USES UP MONTHLY API CALLS LIMIT\n",
    "# for date, url in response_parsed[[\"periodOfReport\", \"linkToFilingDetails\"]].values:\n",
    "#     xbrl_json = xbrlAPI.xbrl_to_json(url)\n",
    "    \n",
    "#     with open(f\"tesla_10Q_{date}.json\", \"w\") as f:\n",
    "#         json.dump(xbrl_json, f)"
   ]
  },
  {
   "cell_type": "markdown",
   "id": "ca63105c",
   "metadata": {},
   "source": [
    "## Extract Data (Dev)"
   ]
  },
  {
   "cell_type": "code",
   "execution_count": null,
   "id": "60277677",
   "metadata": {},
   "outputs": [],
   "source": [
    "with open(\"tesla_10Q_2023-06-30.json\", \"r\") as f:\n",
    "    xbrl_json = json.load(f)"
   ]
  },
  {
   "cell_type": "code",
   "execution_count": null,
   "id": "b4b6f04f",
   "metadata": {},
   "outputs": [],
   "source": [
    "current_date = xbrl_json[\"CoverPage\"][\"DocumentPeriodEndDate\"]\n",
    "current_date"
   ]
  },
  {
   "cell_type": "code",
   "execution_count": null,
   "id": "88226be5",
   "metadata": {},
   "outputs": [],
   "source": [
    "BalanceSheets = xbrl_json[\"BalanceSheets\"]\n",
    "StatementsOfIncome = xbrl_json[\"StatementsOfIncome\"]\n",
    "StatementsOfCashFlows = xbrl_json[\"StatementsOfCashFlows\"]\n",
    "StatementsOfShareholdersEquity = xbrl_json[\"StatementsOfShareholdersEquity\"]"
   ]
  },
  {
   "cell_type": "markdown",
   "id": "b30f7b30",
   "metadata": {},
   "source": [
    "## Balance Sheets"
   ]
  },
  {
   "cell_type": "code",
   "execution_count": 4,
   "id": "3bb3a49e",
   "metadata": {},
   "outputs": [],
   "source": [
    "def balancesheets_to_df(BalanceSheets):\n",
    "    \"\"\"\n",
    "    \"\"\"\n",
    "    df_list = []\n",
    "\n",
    "    for name in BalanceSheets.keys():\n",
    "        try:\n",
    "            df = pd.DataFrame.from_records(BalanceSheets[name])\n",
    "            df[\"period\"] = df[\"period\"].apply(lambda x: x[\"instant\"])\n",
    "            df[\"name\"] = name\n",
    "            df_list.append(df)\n",
    "        except Exception as ex:\n",
    "            print(name, \"---\", ex)\n",
    "    \n",
    "    return pd.concat(df_list, axis=0)"
   ]
  },
  {
   "cell_type": "code",
   "execution_count": null,
   "id": "1631c360",
   "metadata": {},
   "outputs": [],
   "source": [
    "balancesheet_df = balancesheets_to_df(BalanceSheets)\n",
    "set(BalanceSheets.keys()).difference(set(balancesheet_df.name))"
   ]
  },
  {
   "cell_type": "code",
   "execution_count": null,
   "id": "4e45396b",
   "metadata": {},
   "outputs": [],
   "source": [
    "(balancesheet_df.query(\"segment.isna()\").value_counts([\"name\", \"period\"]) == 1).mean()"
   ]
  },
  {
   "cell_type": "code",
   "execution_count": null,
   "id": "b557606b",
   "metadata": {
    "scrolled": true
   },
   "outputs": [],
   "source": [
    "# balancesheet_df.query(\"segment.isna() and period == @current_date\")"
   ]
  },
  {
   "cell_type": "markdown",
   "id": "247b0c35",
   "metadata": {},
   "source": [
    "## Statements of Income"
   ]
  },
  {
   "cell_type": "code",
   "execution_count": 5,
   "id": "33eb0214",
   "metadata": {},
   "outputs": [],
   "source": [
    "def incomestatement_to_df(StatementsOfIncome):\n",
    "    \"\"\"\n",
    "    \"\"\"\n",
    "    df_list = []\n",
    "\n",
    "    for name in StatementsOfIncome.keys():\n",
    "        try:\n",
    "            df = pd.DataFrame.from_records(StatementsOfIncome[name])\n",
    "            df[\"startDate\"] = df[\"period\"].apply(lambda x: x[\"startDate\"])\n",
    "            df[\"endDate\"] = df[\"period\"].apply(lambda x: x[\"endDate\"])\n",
    "            df[\"name\"] = name\n",
    "            df_list.append(df)\n",
    "        except Exception as ex:\n",
    "            print(name, \"---\", ex)\n",
    "    \n",
    "    return pd.concat(df_list, axis=0)"
   ]
  },
  {
   "cell_type": "code",
   "execution_count": null,
   "id": "924d30b8",
   "metadata": {},
   "outputs": [],
   "source": [
    "income_df = incomestatement_to_df(StatementsOfIncome)\n",
    "set(StatementsOfIncome.keys()).difference(set(income_df.name))"
   ]
  },
  {
   "cell_type": "code",
   "execution_count": null,
   "id": "bcc11485",
   "metadata": {},
   "outputs": [],
   "source": [
    "(income_df.query(\"segment.isna()\").value_counts([\"name\", \"startDate\", \"endDate\"]) == 1).mean()"
   ]
  },
  {
   "cell_type": "code",
   "execution_count": null,
   "id": "6a179398",
   "metadata": {
    "scrolled": true
   },
   "outputs": [],
   "source": [
    "(income_df.query(\"segment.isna()\").value_counts([\"endDate\", \"name\"]) == 2).mean()"
   ]
  },
  {
   "cell_type": "code",
   "execution_count": null,
   "id": "95018b1f",
   "metadata": {
    "scrolled": true
   },
   "outputs": [],
   "source": [
    "# (income_df.query(\"segment.isna() and endDate == @current_date\")\n",
    "#  .sort_values([\"name\", \"startDate\"]).groupby([\"name\"]).tail(1))"
   ]
  },
  {
   "cell_type": "markdown",
   "id": "bacbaeec",
   "metadata": {},
   "source": [
    "## Extract Data (prod.)"
   ]
  },
  {
   "cell_type": "code",
   "execution_count": 2,
   "id": "4f73fe16",
   "metadata": {},
   "outputs": [],
   "source": [
    "files = [i for i in os.listdir() if re.match(\".*.json$\", i)]"
   ]
  },
  {
   "cell_type": "code",
   "execution_count": 15,
   "id": "aecfe5a9",
   "metadata": {},
   "outputs": [
    {
     "name": "stdout",
     "output_type": "stream",
     "text": [
      "Goodwill --- string indices must be integers\n",
      "NetIncomeLossAttributableToNoncontrollingInterest --- string indices must be integers\n",
      "TemporaryEquityCarryingAmountAttributableToParent --- string indices must be integers\n",
      "TemporaryEquityCarryingAmountAttributableToParent --- string indices must be integers\n",
      "DueToRelatedPartiesCurrent --- string indices must be integers\n",
      "RestructuringAndOtherExpenses --- string indices must be integers\n",
      "TemporaryEquityCarryingAmountAttributableToParent --- string indices must be integers\n",
      "RestructuringAndOtherExpenses --- string indices must be integers\n",
      "TemporaryEquityCarryingAmountAttributableToParent --- string indices must be integers\n",
      "TemporaryEquityCarryingAmountAttributableToParent --- string indices must be integers\n",
      "RestructuringAndOtherExpenses --- string indices must be integers\n",
      "MarketableSecuritiesCurrent --- string indices must be integers\n",
      "CPU times: total: 3.44 s\n",
      "Wall time: 3.91 s\n"
     ]
    }
   ],
   "source": [
    "%%time\n",
    "bs_lst, inc_lst = [], []\n",
    "\n",
    "for file in files:\n",
    "    with open(file, \"r\") as f:\n",
    "        xbrl_json = json.load(f)\n",
    "    \n",
    "    current_date = xbrl_json[\"CoverPage\"][\"DocumentPeriodEndDate\"]\n",
    "    BalanceSheets = xbrl_json[\"BalanceSheets\"]\n",
    "    StatementsOfIncome = xbrl_json[\"StatementsOfIncome\"]\n",
    "    \n",
    "    balancesheet_df = balancesheets_to_df(BalanceSheets)\n",
    "    balancesheet_df = balancesheet_df.query(\"segment.isna() and period == @current_date\")\n",
    "    bs_lst.append(balancesheet_df)\n",
    "    \n",
    "    income_df = incomestatement_to_df(StatementsOfIncome)\n",
    "    income_df = (income_df\n",
    "                 .query(\"segment.isna() and endDate == @current_date\")\n",
    "                 .sort_values([\"name\", \"startDate\"])\n",
    "                 .groupby([\"name\"])\n",
    "                 .tail(1))\n",
    "    inc_lst.append(income_df)"
   ]
  },
  {
   "cell_type": "code",
   "execution_count": 16,
   "id": "f760331b",
   "metadata": {},
   "outputs": [],
   "source": [
    "balancesheet_df = pd.concat(bs_lst, axis=0)\n",
    "income_df = pd.concat(inc_lst, axis=0)"
   ]
  },
  {
   "cell_type": "code",
   "execution_count": 21,
   "id": "1933a69f",
   "metadata": {},
   "outputs": [
    {
     "data": {
      "text/plain": [
       "endDate   \n",
       "2017-03-31    26\n",
       "2017-06-30    27\n",
       "2017-09-30    29\n",
       "2018-03-31    29\n",
       "2018-06-30    30\n",
       "2018-09-30    27\n",
       "2019-03-31    25\n",
       "2019-06-30    26\n",
       "2019-09-30    26\n",
       "2020-03-31    25\n",
       "2020-06-30    25\n",
       "2020-09-30    27\n",
       "2021-03-31    20\n",
       "2021-06-30    20\n",
       "2021-09-30    21\n",
       "2022-03-31    20\n",
       "2022-06-30    20\n",
       "2022-09-30    20\n",
       "2023-03-31    19\n",
       "2023-06-30    20\n",
       "dtype: int64"
      ]
     },
     "execution_count": 21,
     "metadata": {},
     "output_type": "execute_result"
    }
   ],
   "source": [
    "income_df.dropna(subset=[\"value\"]).value_counts([\"endDate\"]).sort_index()"
   ]
  },
  {
   "cell_type": "code",
   "execution_count": 19,
   "id": "400e1710",
   "metadata": {},
   "outputs": [
    {
     "data": {
      "text/plain": [
       "period    \n",
       "2017-03-31    34\n",
       "2017-06-30    35\n",
       "2017-09-30    35\n",
       "2018-03-31    35\n",
       "2018-06-30    35\n",
       "2018-09-30    34\n",
       "2019-03-31    34\n",
       "2019-06-30    35\n",
       "2019-09-30    34\n",
       "2020-03-31    29\n",
       "2020-06-30    29\n",
       "2020-09-30    29\n",
       "2021-03-31    30\n",
       "2021-06-30    30\n",
       "2021-09-30    30\n",
       "2022-03-31    32\n",
       "2022-06-30    32\n",
       "2022-09-30    32\n",
       "2023-03-31    32\n",
       "2023-06-30    32\n",
       "dtype: int64"
      ]
     },
     "execution_count": 19,
     "metadata": {},
     "output_type": "execute_result"
    }
   ],
   "source": [
    "balancesheet_df.dropna(subset=[\"value\"]).value_counts([\"period\"]).sort_index()"
   ]
  }
 ],
 "metadata": {
  "kernelspec": {
   "display_name": "Python 3 (ipykernel)",
   "language": "python",
   "name": "python3"
  },
  "language_info": {
   "codemirror_mode": {
    "name": "ipython",
    "version": 3
   },
   "file_extension": ".py",
   "mimetype": "text/x-python",
   "name": "python",
   "nbconvert_exporter": "python",
   "pygments_lexer": "ipython3",
   "version": "3.10.9"
  }
 },
 "nbformat": 4,
 "nbformat_minor": 5
}
